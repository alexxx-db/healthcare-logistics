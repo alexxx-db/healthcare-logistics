{
 "cells": [
  {
   "cell_type": "markdown",
   "metadata": {},
   "source": [
    "# HPDM097: Introduction to combinatorial optimisation for geospatial problems\n",
    "\n",
    "## **Case study**: An applied facility location problem: sexual clinics in Hampshire, UK\n",
    "\n",
    "The data you will use in the exercises in this computer lab is taken from a real facility location study conducted in Hampshire.  The data science team worked with commissioners, a public health team, and a community NHS trust in Hampshire that were reviewing the provision of sexual health clinics across the region.  The data science 'customers' had a number of concerns about the current provision of sexual health care.  One of these was the sustainability of the adult service across 28 locations.  There was a growing concern that care varied and the data scientists were asked to identify promising configurations that preserved fair access for patients.\n",
    "\n",
    "**By the end of this lab you will have learnt how to:**\n",
    "\n",
    "* represent a facility location problem in a general format suitable for algorithmic solution\n",
    "* solve the p-median facility location problem using a brute force approach\n",
    "* solve a larger p-median problem by applying an evolutionary optimisation approach\n",
    "* obtain a good solution to large instances of the p-median problem by applying a Genetic Algorithm.\n",
    "\n",
    "> Please use the conda environment `hds_logistics` when running this workbook.  You will also need to run this workbook in the same directory as `metapy`.  This is a small python package that contains the evolutionary and genetic algorithm code.\n",
    "\n",
    "The first part of the notebook will walk you through the basics of representing a solution, generating random solutions, and evaluating a solution.  You will then be asked to complete a number of exercises using these fundamentals to locate facilities in partial and full instances of the case study."
   ]
  },
  {
   "cell_type": "markdown",
   "metadata": {},
   "source": [
    "# Imports "
   ]
  },
  {
   "cell_type": "code",
   "execution_count": null,
   "metadata": {},
   "outputs": [],
   "source": [
    "import pandas as pd\n",
    "import numpy as np\n",
    "import matplotlib.pyplot as plt\n",
    "\n",
    "#you will use itertools for enumerating all solutions in small instances.\n",
    "from itertools import combinations"
   ]
  },
  {
   "cell_type": "markdown",
   "metadata": {},
   "source": [
    "# `metapy` package imports\n",
    "\n",
    "The package contains the classes and functions for the evolutionary algorithms you will use in this notebook."
   ]
  },
  {
   "cell_type": "code",
   "execution_count": null,
   "metadata": {},
   "outputs": [],
   "source": [
    "from metapy.evolutionary.evolutionary import (EvolutionaryAlgorithm, \n",
    "                                              MuLambdaEvolutionStrategy, \n",
    "                                              MuPlusLambdaEvolutionStrategy,\n",
    "                                              GeneticAlgorithmStrategy,\n",
    "                                              ElitistGeneticAlgorithmStrategy,\n",
    "                                              WeightedAverageObjective,\n",
    "                                              FacilityLocationPopulationGenerator,\n",
    "                                              BasicFacilityLocationMutator,\n",
    "                                              TournamentSelector,\n",
    "                                              FacilityLocationSinglePointCrossOver)"
   ]
  },
  {
   "cell_type": "markdown",
   "metadata": {},
   "source": [
    "# Import case study data\n",
    "\n",
    "The car travel times in minutes from anonymised postcode sectors to anonymised clinic locations."
   ]
  },
  {
   "cell_type": "code",
   "execution_count": null,
   "metadata": {},
   "outputs": [],
   "source": [
    "travel_matrix = pd.read_csv('data/clinic_car_travel_time.csv', \n",
    "                            index_col='sector')\n",
    "travel_matrix.head()"
   ]
  },
  {
   "cell_type": "code",
   "execution_count": null,
   "metadata": {},
   "outputs": [],
   "source": [
    "#no of cases by postcode sector...\n",
    "\n",
    "cases = pd.read_csv('data/sh_demand.csv', index_col='sector')\n",
    "cases.head()"
   ]
  },
  {
   "cell_type": "markdown",
   "metadata": {},
   "source": [
    "# Representing a solution\n",
    "\n",
    "To solve the facility location problem using an an algorithm you need to decide how to represent a solution.  \n",
    "\n",
    "You will represent a solution using a vector of length $p$ where $p <= P$.  Each element represents the index of a clinic.  For example, if we have $P = 28$ candidate locations for clinics and wish to find the best solution where $p = 4$\n",
    "\n",
    "```python\n",
    "solution = np.array([10, 0, 6, 12])\n",
    "```\n",
    "means that clinics which indices 10, 0, 6, and 12 are included in the solution.\n",
    "\n",
    "To select a set of clinics from a `pandas.DataFrame` you can use the code below.  The indices are used select the column headers and the column headers are then used to select the column data from the dataframe."
   ]
  },
  {
   "cell_type": "code",
   "execution_count": null,
   "metadata": {},
   "outputs": [],
   "source": [
    "#the solution represents the indicies of clinics in the travel matrix\n",
    "solution = np.array([10, 0, 6, 12])\n",
    "\n",
    "#this code looks up the column names using the indicies in the solution\n",
    "#if you are unsure what it does then print out `mask`\n",
    "mask = travel_matrix.columns[solution]\n",
    "\n",
    "#finally we select a restricted set of columns from the DataFrame\n",
    "travel_matrix[mask]"
   ]
  },
  {
   "cell_type": "markdown",
   "metadata": {},
   "source": [
    "# Constructing a random solution\n",
    "\n",
    "It is unusual to specify an initial solution in facility location.  It is more usual to **generate** one or more random solutions as a starting place.\n",
    "\n",
    "The function `random_solution` accepts:\n",
    "* `n_candidates`: The number of candidate locations where you could place clinics (facilities)\n",
    "* `p` the number of clinics to place.\n",
    "* `random_seed` (optional).  Use if you wanted to recreate your results."
   ]
  },
  {
   "cell_type": "code",
   "execution_count": null,
   "metadata": {},
   "outputs": [],
   "source": [
    "def random_solution(n_candidates, p, random_seed=None):\n",
    "    '''\n",
    "    construct a random solution for the facility location\n",
    "    problem.  Returns vector of length p\n",
    "    '''\n",
    "    #create a random number generator\n",
    "    rng = np.random.default_rng(seed=random_seed)\n",
    "\n",
    "    #sample without replacement\n",
    "    solution = []\n",
    "    while len(solution) < p:\n",
    "        candidate = rng.integers(0, n_candidates)\n",
    "        if candidate not in solution:\n",
    "            solution.append(candidate)\n",
    "            \n",
    "    return np.array(solution)"
   ]
  },
  {
   "cell_type": "code",
   "execution_count": null,
   "metadata": {},
   "outputs": [],
   "source": [
    "init_solution = random_solution(28, 4, random_seed=42)\n",
    "init_solution"
   ]
  },
  {
   "cell_type": "markdown",
   "metadata": {},
   "source": [
    "It is not strictly necessary, but if you wish to have a more efficient implementation of the above you can make use of numpy's built-in `choice` method that allows you to sample **without** replacement."
   ]
  },
  {
   "cell_type": "code",
   "execution_count": null,
   "metadata": {},
   "outputs": [],
   "source": [
    "def random_solution2(n_candidates, p, random_seed=None):\n",
    "    '''\n",
    "    construct a random solution for the facility location\n",
    "    problem.  Returns vector of length p\n",
    "    '''\n",
    "    #create a random number generator\n",
    "    rng = np.random.default_rng(seed=random_seed)\n",
    "    \n",
    "    #create array of candidate indexes\n",
    "    candidates = np.arange(n_candidates, dtype=np.byte)\n",
    "    \n",
    "    #sample without replacement and return array\n",
    "    return rng.choice(candidates, size=p, replace=False)"
   ]
  },
  {
   "cell_type": "code",
   "execution_count": null,
   "metadata": {},
   "outputs": [],
   "source": [
    "init_solution = random_solution2(28, 4)\n",
    "init_solution"
   ]
  },
  {
   "cell_type": "markdown",
   "metadata": {},
   "source": [
    "# Evaluating a solution\n",
    "\n",
    "There are multiple ways to formulate the objectives of a facility location problem.  With the sexual health case study you will formulate the it as a p-median problem.  Where the objective is to find the combination of facilities that minimises the weighted average car travel time to a clinic.\n",
    "\n",
    "`metapy` contains a `WeightAverageObjective` class that accepts both the geospatial demand and travel matrix as parameters.\n",
    "\n",
    "```python\n",
    "from metapy.evolutionary.evolutionary import WeightedAverageObjective\n",
    "\n",
    "# create an instance and pass in demand and travel times\n",
    "obj = WeightedAverageObjective(cases, travel_matrix)\n",
    "```\n",
    "\n",
    "The object has a method `evaluate(solution)` that accepts a numpy vector that is your representation of the a solution.\n",
    "\n",
    "```python\n",
    "obj.evaluate(solution)\n",
    "```\n",
    "\n",
    "The code below brings these together.  Execute the cell to see the output."
   ]
  },
  {
   "cell_type": "code",
   "execution_count": null,
   "metadata": {},
   "outputs": [],
   "source": [
    "obj = WeightedAverageObjective(cases, travel_matrix)\n",
    "obj.evaluate(solution)"
   ]
  },
  {
   "cell_type": "markdown",
   "metadata": {},
   "source": [
    "# Solution of a small facility location problem by enumerating all possible combinations"
   ]
  },
  {
   "cell_type": "markdown",
   "metadata": {},
   "source": [
    "For small problems it is possible to enumerate all combinations to locate the \"optimal\" solution.  \n",
    "\n",
    "The function `all_combinations` below will provide a list of solutions representing an exhaustive solution space for a given problem.  For example, if the problem consisted of 10 candidate locations and you wish to evaluate solutions of size 4 then the solution space is fully represented by 210 unique solutions.\n",
    "\n",
    "This method is straightforward for health service customers to understand and for small problems it is unusual to use a complex optimisation procedure.  As the facility location problem is NP hard, this strategy is not recommended for large scale problems.  The evaluation of the fitness of the solutions will become prohibitive as the size of the problem begins to exceed 10."
   ]
  },
  {
   "cell_type": "code",
   "execution_count": null,
   "metadata": {},
   "outputs": [],
   "source": [
    "def all_combinations(n_facilities, p):\n",
    "    '''\n",
    "    Returns all p sized combinations of an array containing\n",
    "    indicies 0 to n_facilties - 1 \n",
    "    '''\n",
    "    facility = np.arange(n_facilities, dtype=np.uint8)\n",
    "    return [np.array(a) for a in combinations(facility, p)]"
   ]
  },
  {
   "cell_type": "code",
   "execution_count": null,
   "metadata": {},
   "outputs": [],
   "source": [
    "# size 4 combinations of 10 candidate locations = 210\n",
    "comb = all_combinations(n_facilities=10, p=4)\n",
    "len(comb)"
   ]
  },
  {
   "cell_type": "code",
   "execution_count": null,
   "metadata": {},
   "outputs": [],
   "source": [
    "#take a look at index 0\n",
    "comb[0]"
   ]
  },
  {
   "cell_type": "code",
   "execution_count": null,
   "metadata": {},
   "outputs": [],
   "source": [
    "#index 209\n",
    "comb[-1]"
   ]
  },
  {
   "cell_type": "markdown",
   "metadata": {},
   "source": [
    "# Exercise 1: Bruteforce solution\n",
    "\n",
    "As an example we will work with the **first six clinics** and look to find the optimal 4 sites according to the weighted average.\n",
    "\n",
    "**Task:**\n",
    "* Generate all combinations to place 4 facilities in a problem with 6 candidate locations.\n",
    "* For each of the solutions calculate the weighted average travel time.\n",
    "* Select the solution with the lowest weight mean car travel time.\n",
    "* Illustrate all of the solutions on a bar chart.  \n",
    "\n",
    "**Questions:**\n",
    "* Does the problem have a unique \"optimal\" solution or are there other solutions that a health service customer might consider?\n",
    "* Are there any limitations with the data that make it important to report more than a single solution?\n",
    "* What happens to the travel times and solution if $p$ is reduced to 3?"
   ]
  },
  {
   "cell_type": "code",
   "execution_count": null,
   "metadata": {},
   "outputs": [],
   "source": [
    "# your code goes here ..."
   ]
  },
  {
   "cell_type": "markdown",
   "metadata": {},
   "source": [
    "# Exercise 2: Using random restarts with medium to large sized problems\n",
    "\n",
    "When you encounter a medium to large instance of a facility location problem (or any optimisation problem) it is often tempting to move quickly onto a sophisticated solution method such as a evolutionary algorithm.  But how do you know that it is better than a simple heuristic?  \n",
    "\n",
    "**Here you will use the random restarts algorithm (sometimes called random search) as a simple benchmark.**\n",
    "\n",
    "Random restarts is simple heuristic.  You allocate a computational budget - either in terms of iterations or execution time - and randomly generate solutions and evaluate them. For example, you might specify an execution time limit of 10 seconds and in that time evaluate as many random solutions as possible.  \n",
    "\n",
    "> A neat trick with this type of algorithm is to remember that it is 'Embarrassingly parallelisible'.  That is, if your machine has multiple virtual cores then you can run multiple random searches simultaneously and return the best solution.  \n",
    "\n",
    "**Task:**\n",
    "* Using the `random_solution` function defined earlier create another function `random_restarts` (or class `RandomRestarts` if you prefer) that runs for fixed number of iterations.  For example if you specify iterations as 10 then the algorithm generates 10 random solutions and evaluates them.  \n",
    "* The function should return a tuple of the best cost and best solution found when minimising the weighted average car travel time.\n",
    "* Problem: 20 candidate locations and a budget of 8 clinics to place.\n",
    "* Try running the algorithm a few times or varying your budget. What do you notice?  What might you do to get a better understanding of the algorithms performance?"
   ]
  },
  {
   "cell_type": "code",
   "execution_count": null,
   "metadata": {},
   "outputs": [],
   "source": [
    "#your code goes here ..."
   ]
  },
  {
   "cell_type": "markdown",
   "metadata": {},
   "source": [
    "# Exercise 3: Solution using a evolutionary algorithm"
   ]
  },
  {
   "cell_type": "markdown",
   "metadata": {},
   "source": [
    "## Exercise 3.1 Generating an initial population.\n",
    "\n",
    "Basic evolutionary strategies work by mutating the most promising solutions in the population.  There are many ways to implement mutation.  Here you will use `BasicFacilityLocationMutator`.  Each element in a solution has a constant probability of mutation (by default 1 / no. of facilities in a solution, but you may wish to set this higher.).  If a facility is chosen then it is replaced by a random facility current not in the solution.\n",
    "\n",
    "You can create a `BasicFacilityLocationMutator` as follows:\n",
    "\n",
    "```python\n",
    "mutator = FacilityLocationMutator(n_candidates=28, solution_size=4)\n",
    "solution = np.array([1, 2, 3, 4])\n",
    "\n",
    "mutant = mutator.mutate(solution)\n",
    "print(mutant)\n",
    "```\n",
    "\n",
    "To use a higher mutation rate:\n",
    "\n",
    "```python\n",
    "mutator = FacilityLocationMutator(n_candidates=28, solution_size=4\n",
    "                                  mutation_rate=0.6)\n",
    "solution = np.array([1, 2, 3, 4])\n",
    "\n",
    "mutant = mutator.mutate(solution)\n",
    "print(mutant)\n",
    "```\n",
    "\n",
    "**Task**:\n",
    "* Create a `FacilityLocationMutator` with 50 candidate solutions and a solution size of 10\n",
    "* mutate the solution a total of 10 times and printout the generations."
   ]
  },
  {
   "cell_type": "code",
   "execution_count": null,
   "metadata": {},
   "outputs": [],
   "source": [
    "# your code here ..."
   ]
  },
  {
   "cell_type": "markdown",
   "metadata": {},
   "source": [
    "# Exercise 3.2: Mutating a solution\n",
    "\n",
    "Basic evolutionary strategies work by mutating the most promising solutions in the population.  There are many ways to implement mutation.  Here you will use `BasicFacilityLocationMutator`.  Each element in a solution has a constant probability of mutation (by default 1 / no. of facilities in a solution, but you may wish to set this higher.).  If a facility is chosen then it is replaced by a random facility current not in the solution.\n",
    "\n",
    "You can create a `BasicFacilityLocationMutator` as follows:\n",
    "\n",
    "```python\n",
    "mutator = FacilityLocationMutator(n_candidates=28, solution_size=4)\n",
    "solution = np.array([1, 2, 3, 4])\n",
    "\n",
    "mutant = mutator.mutate(solution)\n",
    "print(mutant)\n",
    "```\n",
    "\n",
    "To use a higher mutation rate:\n",
    "\n",
    "```python\n",
    "mutator = FacilityLocationMutator(n_candidates=28, solution_size=4\n",
    "                                  mutation_rate=0.6)\n",
    "solution = np.array([1, 2, 3, 4])\n",
    "\n",
    "mutant = mutator.mutate(solution)\n",
    "print(mutant)\n",
    "```\n",
    "\n",
    "**Task**:\n",
    "* Create a `FacilityLocationMutator` with 50 candidate solutions and a solution size of 10\n",
    "* mutate the solution a total of 10 times and printout the generations.\n"
   ]
  },
  {
   "cell_type": "code",
   "execution_count": null,
   "metadata": {},
   "outputs": [],
   "source": [
    "#your code goes here ..."
   ]
  },
  {
   "cell_type": "markdown",
   "metadata": {},
   "source": [
    "# Exercise 3.3: The $(\\mu, \\lambda)$ and $(\\mu+\\lambda)$ evolutionary strategies\n",
    "\n",
    "A random initial population and a mutation operator provide the ingredients for the two basic evolutionary strategies $(\\mu, \\lambda)$ and $(\\mu+\\lambda)$.\n",
    "\n",
    "You will use the `metapy` package.  In particular:\n",
    "\n",
    "\n",
    "**Task:**\n",
    "* Run two evolutionary algorithms with $(\\mu, \\lambda)$ and $(\\mu+\\lambda)$  strategies respectively.  The code is  provided below.\n",
    "* Investigate the parameters requried when creating `MuPlusLambdaEvolutionStrategy` and `MuLambdaEvolutionStrategy`\n",
    "* Use a problem size of 28 candidate locations and 14 facilities\n",
    "* Initially try $mu = 10$ and $\\lambda = 200$. \n",
    "* Using a random initial population evolve for 50 generations.\n",
    "\n",
    "**Hints**:\n",
    "* Evolutionary strategies are computationally expensive.  Expect a 50 generation algorithm to take 20-45 seconds on your machine.\n",
    "\n",
    "**Questions:**\n",
    "* How do your new solutions and algorithms compare to `random_restarts?`\n",
    "* How do the algorithms appear to compare to each other?\n",
    "* What must your remember about evolutionary algorithms when evaluating their performance?"
   ]
  },
  {
   "cell_type": "code",
   "execution_count": null,
   "metadata": {},
   "outputs": [],
   "source": [
    "%%time\n",
    "\n",
    "#example solution\n",
    "\n",
    "#Evolutionary Algorithm - (mu+lambda) strategy\n",
    "n_candidates = 28\n",
    "n_facilities = 14\n",
    "\n",
    "mu = 10\n",
    "_lambda = 200\n",
    "\n",
    "#objective\n",
    "objective = WeightedAverageObjective(cases, travel_matrix)\n",
    "\n",
    "#initial solution generator\n",
    "init = FacilityLocationPopulationGenerator(n_candidates, n_facilities)\n",
    "\n",
    "#mutation operator\n",
    "mutator = BasicFacilityLocationMutator(n_candidates=n_candidates, \n",
    "                                       solution_size=n_facilities, \n",
    "                                       mutation_rate=0.2, verbose=False)\n",
    "\n",
    "#evolutionary stategy\n",
    "strategy = MuPlusLambdaEvolutionStrategy(mu, _lambda, mutator)\n",
    "\n",
    "#solver object\n",
    "solver = EvolutionaryAlgorithm(init, objective, _lambda, strategy, \n",
    "                               maximisation=False, generations=50)\n",
    "\n",
    "print(\"\\nRunning (mu + lambda) evolutionary alg...\")\n",
    "solver.solve()\n",
    "\n",
    "print(\"\\n** (MU+LAMBDA) OUTPUT ***\")\n",
    "print(\"best cost:\\t{0}\".format(solver.best_fitness))\n",
    "print(\"best solutions:\")\n",
    "print(sorted(solver.best_solution))"
   ]
  },
  {
   "cell_type": "code",
   "execution_count": null,
   "metadata": {},
   "outputs": [],
   "source": [
    "%%time\n",
    "\n",
    "#Evolutionary Algorithm - (mu,lambda) strategy\n",
    "n_candidates = 28\n",
    "n_facilities = 14\n",
    "\n",
    "mu = 10\n",
    "_lambda = 200\n",
    "\n",
    "#objective\n",
    "objective = WeightedAverageObjective(cases, travel_matrix)\n",
    "\n",
    "#initial solution generator\n",
    "init = FacilityLocationPopulationGenerator(n_candidates, n_facilities)\n",
    "\n",
    "#mutation operator\n",
    "mutator = BasicFacilityLocationMutator(n_candidates=n_candidates, \n",
    "                                       solution_size=n_facilities, \n",
    "                                       mutation_rate=0.2, verbose=False)\n",
    "\n",
    "#evolutionary stategy\n",
    "strategy = MuLambdaEvolutionStrategy(mu, _lambda, mutator)\n",
    "\n",
    "#solver object\n",
    "solver = EvolutionaryAlgorithm(init, objective, _lambda, strategy, \n",
    "                               maximisation=False, generations=50)\n",
    "\n",
    "print(\"\\nRunning (mu, lambda) evolutionary alg...\")\n",
    "solver.solve()\n",
    "\n",
    "print(\"\\n** (MU,LAMBDA) OUTPUT ***\")\n",
    "print(\"best cost:\\t{0}\".format(solver.best_fitness))\n",
    "print(\"best solutions:\")\n",
    "print(sorted(solver.best_solution))"
   ]
  },
  {
   "cell_type": "markdown",
   "metadata": {},
   "source": [
    "# Exercise 4: Locating facilities using a full Genetic Algorithm (GA)\n",
    "\n",
    "Now that you have warmed up using  $(\\mu, \\lambda)$ and $(\\mu+\\lambda)$  it is time to move onto a full GA.  This means you need to take account of two further steps.\n",
    "\n",
    "* A selection operator for breeding - in this instance you will use the provided `TournamentSelector`\n",
    "* A crossover operator for breeding - you will use `FacilityLocationSinglePointCrossover`\n",
    "\n",
    "See lecture slides for details of how these work.\n",
    "\n",
    "`metapy` provides standard and elitist GA strategies.  The code provided in this task demonstrates how these are instantiated and used to solve the sexual health clinic facility location problem.\n",
    "\n",
    "**Task:**\n",
    "\n",
    "The two code blocks below have been provided to demonstrate how to use run the `metapy` implementations of a GA.  Note that these are similar to the two basic evolutionary strategies you used in the previous exercise.  \n",
    "\n",
    "* Run `GeneticAlgorithmStrategy` and `ElitistGeneticAlgorithmStrategy` using the parameters provided\n",
    "\n",
    "\n",
    "**Questions**:\n",
    "\n",
    "* Are you satisfied with the results?  If not you could try changing/tuning the parameters:\n",
    "    * lambda and mu\n",
    "    * the number of generations (note this will start to get slow with large numbers)\n",
    "    * the mutation rate\n",
    "    * (You could also work with a smaller problem size to speed things up).\n",
    "    \n",
    "* Which of the algorithms used fin this case study do you prefer the most and why?\n",
    "\n",
    "* Ultimately, in practice, if you are not satisfied with the performance of the GA you might need to code new cross-over and mutation operators! \n",
    "\n",
    "    "
   ]
  },
  {
   "cell_type": "code",
   "execution_count": null,
   "metadata": {},
   "outputs": [],
   "source": []
  },
  {
   "cell_type": "code",
   "execution_count": null,
   "metadata": {},
   "outputs": [],
   "source": [
    "%%time\n",
    "\n",
    "#Evolutionary Algorithm - Genetic Algorithm strategy\n",
    "\n",
    "n_candidates = 28\n",
    "n_facilities = 14\n",
    "\n",
    "_lambda = 200\n",
    "#objective\n",
    "objective = WeightedAverageObjective(cases, travel_matrix)\n",
    "\n",
    "#initial solution generator\n",
    "init = FacilityLocationPopulationGenerator(n_candidates, n_facilities)\n",
    "\n",
    "#mutation operator\n",
    "mutator = BasicFacilityLocationMutator(n_candidates=n_candidates, \n",
    "                                       solution_size=n_facilities, \n",
    "                                       mutation_rate=0.2, verbose=False)\n",
    "\n",
    "#cross over operator\n",
    "x_over = FacilityLocationSinglePointCrossOver()\n",
    "\n",
    "#GA strategy\n",
    "strategy = GeneticAlgorithmStrategy(_lambda, \n",
    "                                    selector=TournamentSelector(),\n",
    "                                    xoperator=x_over,\n",
    "                                    mutator=mutator)\n",
    "\n",
    "\n",
    "solver = EvolutionaryAlgorithm(init, objective,_lambda, strategy, \n",
    "                               maximisation=False, generations=50)\n",
    "print(\"\\nRunning Genetic Algorithm\")\n",
    "solver.solve()\n",
    "\n",
    "print(\"\\n** GA OUTPUT ***\")\n",
    "print(\"best cost:\\t{0}\".format(solver.best_fitness))\n",
    "print(\"best solutions:\")\n",
    "print(solver.best_solution)"
   ]
  },
  {
   "cell_type": "code",
   "execution_count": null,
   "metadata": {},
   "outputs": [],
   "source": [
    "%%time \n",
    "\n",
    "#Evolutionary Algorithm - Elistist Genetic Algorithm strategy\n",
    "\n",
    "n_candidates = 28\n",
    "n_facilities = 14\n",
    "\n",
    "#GA parameters\n",
    "mu = 10\n",
    "_lambda = 200\n",
    "\n",
    "#objective\n",
    "objective = WeightedAverageObjective(cases, travel_matrix)\n",
    "\n",
    "#initial solution generator\n",
    "init = FacilityLocationPopulationGenerator(n_candidates, n_facilities)\n",
    "\n",
    "#mutation operator\n",
    "mutator = BasicFacilityLocationMutator(n_candidates=n_candidates, \n",
    "                                       solution_size=n_facilities, \n",
    "                                       mutation_rate=0.2, verbose=False)\n",
    "\n",
    "#cross over operator\n",
    "x_over = FacilityLocationSinglePointCrossOver()\n",
    "\n",
    "#GA strategy\n",
    "strategy = ElitistGeneticAlgorithmStrategy(mu,\n",
    "                                           _lambda, \n",
    "                                           selector=TournamentSelector(),\n",
    "                                           xoperator=x_over,\n",
    "                                           mutator=mutator)\n",
    "\n",
    "\n",
    "solver = EvolutionaryAlgorithm(init, objective,_lambda, strategy, \n",
    "                               maximisation=False, generations=50)\n",
    "print(\"\\nRunning Elitist Genetic Algorithm\")\n",
    "solver.solve()\n",
    "\n",
    "print(\"\\n** ELITIST GA OUTPUT ***\")\n",
    "print(\"best cost:\\t{0}\".format(solver.best_fitness))\n",
    "print(\"best solutions:\")\n",
    "print(solver.best_solution)"
   ]
  },
  {
   "cell_type": "markdown",
   "metadata": {},
   "source": [
    "# End"
   ]
  },
  {
   "cell_type": "code",
   "execution_count": null,
   "metadata": {},
   "outputs": [],
   "source": []
  }
 ],
 "metadata": {
  "kernelspec": {
   "display_name": "Python 3",
   "language": "python",
   "name": "python3"
  },
  "language_info": {
   "codemirror_mode": {
    "name": "ipython",
    "version": 3
   },
   "file_extension": ".py",
   "mimetype": "text/x-python",
   "name": "python",
   "nbconvert_exporter": "python",
   "pygments_lexer": "ipython3",
   "version": "3.7.7"
  }
 },
 "nbformat": 4,
 "nbformat_minor": 4
}
