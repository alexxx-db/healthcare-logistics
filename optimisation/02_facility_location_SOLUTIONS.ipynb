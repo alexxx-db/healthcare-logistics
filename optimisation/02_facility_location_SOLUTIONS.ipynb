{
 "cells": [
  {
   "cell_type": "markdown",
   "metadata": {},
   "source": [
    "# HPDM097: Introduction to combinatorial optimisation for geospatial problems\n",
    "\n",
    "## **Case study**: An applied facility location problem: sexual clinics in Hampshire, UK\n",
    "\n",
    "The data you will use in the exercises in this computer lab is taken from a real facility location study conducted in Hampshire.  The data science team worked with commissioners, a public health team, and a community NHS trust in Hampshire that were reviewing the provision of sexual health clinics across the region.  The data science 'customers' had a number of concerns about the current provision of sexual health care.  One of these was the sustainability of the adult service across 28 locations.  There was a growing concern that care varied and the data scientists were asked to identify promising configurations that preserved fair access for patients.\n",
    "\n",
    "**By the end of this lab you will have learnt how to:**\n",
    "\n",
    "* represent a facility location problem in a general format suitable for algorithmic solution\n",
    "* solve the p-median facility location problem using a brute force approach\n",
    "* solve a larger p-median problem by applying an evolutionary optimisation approach\n",
    "* obtain a good solution to large instances of the p-median problem by applying a Genetic Algorithm.\n",
    "\n",
    "> Please use the conda environment `hds_logistics` when running this workbook.  You will also need to run this workbook in the same directory as `metapy`.  This is a small python package that contains the evolutionary and genetic algorithm code.\n",
    "\n",
    "The first part of the notebook will walk you through the basics of representing a solution, generating random solutions, and evaluating a solution.  You will then be asked to complete a number of exercises using these fundamentals to locate facilities in partial and full instances of the case study."
   ]
  },
  {
   "cell_type": "markdown",
   "metadata": {},
   "source": [
    "# Imports "
   ]
  },
  {
   "cell_type": "code",
   "execution_count": 1,
   "metadata": {},
   "outputs": [],
   "source": [
    "import pandas as pd\n",
    "import numpy as np\n",
    "import matplotlib.pyplot as plt\n",
    "\n",
    "# you will use itertools for enumerating all solutions in small instances.\n",
    "from itertools import combinations"
   ]
  },
  {
   "cell_type": "markdown",
   "metadata": {},
   "source": [
    "# `metapy` package imports\n",
    "\n",
    "The package contains the classes and functions for the evolutionary algorithms you will use in this notebook."
   ]
  },
  {
   "cell_type": "code",
   "execution_count": 2,
   "metadata": {},
   "outputs": [],
   "source": [
    "from metapy.evolutionary.evolutionary import (EvolutionaryAlgorithm, \n",
    "                                              MuLambdaEvolutionStrategy, \n",
    "                                              MuPlusLambdaEvolutionStrategy,\n",
    "                                              GeneticAlgorithmStrategy,\n",
    "                                              ElitistGeneticAlgorithmStrategy,\n",
    "                                              WeightedAverageObjective,\n",
    "                                              FacilityLocationPopulationGenerator,\n",
    "                                              BasicFacilityLocationMutator,\n",
    "                                              TournamentSelector,\n",
    "                                              FacilityLocationSinglePointCrossOver)"
   ]
  },
  {
   "cell_type": "markdown",
   "metadata": {},
   "source": [
    "# Import case study data\n",
    "\n",
    "The car travel times in minutes from annoymised postcode sectors to annoymised clinic locations."
   ]
  },
  {
   "cell_type": "code",
   "execution_count": 3,
   "metadata": {},
   "outputs": [
    {
     "data": {
      "text/html": [
       "<div>\n",
       "<style scoped>\n",
       "    .dataframe tbody tr th:only-of-type {\n",
       "        vertical-align: middle;\n",
       "    }\n",
       "\n",
       "    .dataframe tbody tr th {\n",
       "        vertical-align: top;\n",
       "    }\n",
       "\n",
       "    .dataframe thead th {\n",
       "        text-align: right;\n",
       "    }\n",
       "</style>\n",
       "<table border=\"1\" class=\"dataframe\">\n",
       "  <thead>\n",
       "    <tr style=\"text-align: right;\">\n",
       "      <th></th>\n",
       "      <th>clinic_1</th>\n",
       "      <th>clinic_2</th>\n",
       "      <th>clinic_3</th>\n",
       "      <th>clinic_4</th>\n",
       "      <th>clinic_5</th>\n",
       "      <th>clinic_6</th>\n",
       "      <th>clinic_7</th>\n",
       "      <th>clinic_8</th>\n",
       "      <th>clinic_9</th>\n",
       "      <th>clinic_10</th>\n",
       "      <th>...</th>\n",
       "      <th>clinic_19</th>\n",
       "      <th>clinic_20</th>\n",
       "      <th>clinic_21</th>\n",
       "      <th>clinic_22</th>\n",
       "      <th>clinic_23</th>\n",
       "      <th>clinic_24</th>\n",
       "      <th>clinic_25</th>\n",
       "      <th>clinic_26</th>\n",
       "      <th>clinic_27</th>\n",
       "      <th>clinic_28</th>\n",
       "    </tr>\n",
       "    <tr>\n",
       "      <th>sector</th>\n",
       "      <th></th>\n",
       "      <th></th>\n",
       "      <th></th>\n",
       "      <th></th>\n",
       "      <th></th>\n",
       "      <th></th>\n",
       "      <th></th>\n",
       "      <th></th>\n",
       "      <th></th>\n",
       "      <th></th>\n",
       "      <th></th>\n",
       "      <th></th>\n",
       "      <th></th>\n",
       "      <th></th>\n",
       "      <th></th>\n",
       "      <th></th>\n",
       "      <th></th>\n",
       "      <th></th>\n",
       "      <th></th>\n",
       "      <th></th>\n",
       "      <th></th>\n",
       "    </tr>\n",
       "  </thead>\n",
       "  <tbody>\n",
       "    <tr>\n",
       "      <th>PS158</th>\n",
       "      <td>33.17</td>\n",
       "      <td>40.15</td>\n",
       "      <td>38.17</td>\n",
       "      <td>37.93</td>\n",
       "      <td>29.35</td>\n",
       "      <td>51.48</td>\n",
       "      <td>53.28</td>\n",
       "      <td>48.00</td>\n",
       "      <td>53.82</td>\n",
       "      <td>44.65</td>\n",
       "      <td>...</td>\n",
       "      <td>12.10</td>\n",
       "      <td>12.27</td>\n",
       "      <td>15.83</td>\n",
       "      <td>53.27</td>\n",
       "      <td>53.98</td>\n",
       "      <td>29.75</td>\n",
       "      <td>34.22</td>\n",
       "      <td>32.68</td>\n",
       "      <td>19.62</td>\n",
       "      <td>39.25</td>\n",
       "    </tr>\n",
       "    <tr>\n",
       "      <th>PS159</th>\n",
       "      <td>31.42</td>\n",
       "      <td>36.55</td>\n",
       "      <td>36.42</td>\n",
       "      <td>34.53</td>\n",
       "      <td>27.60</td>\n",
       "      <td>47.88</td>\n",
       "      <td>49.68</td>\n",
       "      <td>44.40</td>\n",
       "      <td>50.22</td>\n",
       "      <td>41.05</td>\n",
       "      <td>...</td>\n",
       "      <td>11.75</td>\n",
       "      <td>11.92</td>\n",
       "      <td>10.62</td>\n",
       "      <td>49.68</td>\n",
       "      <td>50.38</td>\n",
       "      <td>26.15</td>\n",
       "      <td>30.62</td>\n",
       "      <td>32.35</td>\n",
       "      <td>19.28</td>\n",
       "      <td>35.65</td>\n",
       "    </tr>\n",
       "    <tr>\n",
       "      <th>PS160</th>\n",
       "      <td>31.82</td>\n",
       "      <td>38.80</td>\n",
       "      <td>36.82</td>\n",
       "      <td>36.58</td>\n",
       "      <td>28.00</td>\n",
       "      <td>50.13</td>\n",
       "      <td>51.95</td>\n",
       "      <td>46.65</td>\n",
       "      <td>52.47</td>\n",
       "      <td>43.30</td>\n",
       "      <td>...</td>\n",
       "      <td>10.75</td>\n",
       "      <td>10.92</td>\n",
       "      <td>14.35</td>\n",
       "      <td>51.93</td>\n",
       "      <td>52.65</td>\n",
       "      <td>28.40</td>\n",
       "      <td>32.87</td>\n",
       "      <td>31.35</td>\n",
       "      <td>18.27</td>\n",
       "      <td>37.90</td>\n",
       "    </tr>\n",
       "    <tr>\n",
       "      <th>PS161</th>\n",
       "      <td>31.68</td>\n",
       "      <td>38.65</td>\n",
       "      <td>36.67</td>\n",
       "      <td>36.43</td>\n",
       "      <td>27.87</td>\n",
       "      <td>49.98</td>\n",
       "      <td>51.80</td>\n",
       "      <td>46.50</td>\n",
       "      <td>52.32</td>\n",
       "      <td>43.17</td>\n",
       "      <td>...</td>\n",
       "      <td>10.32</td>\n",
       "      <td>10.77</td>\n",
       "      <td>16.38</td>\n",
       "      <td>51.78</td>\n",
       "      <td>52.50</td>\n",
       "      <td>28.27</td>\n",
       "      <td>32.73</td>\n",
       "      <td>31.20</td>\n",
       "      <td>17.82</td>\n",
       "      <td>37.75</td>\n",
       "    </tr>\n",
       "    <tr>\n",
       "      <th>PS162</th>\n",
       "      <td>29.55</td>\n",
       "      <td>36.53</td>\n",
       "      <td>34.55</td>\n",
       "      <td>34.32</td>\n",
       "      <td>25.73</td>\n",
       "      <td>47.87</td>\n",
       "      <td>49.67</td>\n",
       "      <td>44.38</td>\n",
       "      <td>50.20</td>\n",
       "      <td>41.03</td>\n",
       "      <td>...</td>\n",
       "      <td>6.77</td>\n",
       "      <td>7.28</td>\n",
       "      <td>17.18</td>\n",
       "      <td>49.65</td>\n",
       "      <td>50.37</td>\n",
       "      <td>26.13</td>\n",
       "      <td>30.60</td>\n",
       "      <td>29.07</td>\n",
       "      <td>14.27</td>\n",
       "      <td>35.63</td>\n",
       "    </tr>\n",
       "  </tbody>\n",
       "</table>\n",
       "<p>5 rows × 28 columns</p>\n",
       "</div>"
      ],
      "text/plain": [
       "        clinic_1  clinic_2  clinic_3  clinic_4  clinic_5  clinic_6  clinic_7  \\\n",
       "sector                                                                         \n",
       "PS158      33.17     40.15     38.17     37.93     29.35     51.48     53.28   \n",
       "PS159      31.42     36.55     36.42     34.53     27.60     47.88     49.68   \n",
       "PS160      31.82     38.80     36.82     36.58     28.00     50.13     51.95   \n",
       "PS161      31.68     38.65     36.67     36.43     27.87     49.98     51.80   \n",
       "PS162      29.55     36.53     34.55     34.32     25.73     47.87     49.67   \n",
       "\n",
       "        clinic_8  clinic_9  clinic_10  ...  clinic_19  clinic_20  clinic_21  \\\n",
       "sector                                 ...                                    \n",
       "PS158      48.00     53.82      44.65  ...      12.10      12.27      15.83   \n",
       "PS159      44.40     50.22      41.05  ...      11.75      11.92      10.62   \n",
       "PS160      46.65     52.47      43.30  ...      10.75      10.92      14.35   \n",
       "PS161      46.50     52.32      43.17  ...      10.32      10.77      16.38   \n",
       "PS162      44.38     50.20      41.03  ...       6.77       7.28      17.18   \n",
       "\n",
       "        clinic_22  clinic_23  clinic_24  clinic_25  clinic_26  clinic_27  \\\n",
       "sector                                                                     \n",
       "PS158       53.27      53.98      29.75      34.22      32.68      19.62   \n",
       "PS159       49.68      50.38      26.15      30.62      32.35      19.28   \n",
       "PS160       51.93      52.65      28.40      32.87      31.35      18.27   \n",
       "PS161       51.78      52.50      28.27      32.73      31.20      17.82   \n",
       "PS162       49.65      50.37      26.13      30.60      29.07      14.27   \n",
       "\n",
       "        clinic_28  \n",
       "sector             \n",
       "PS158       39.25  \n",
       "PS159       35.65  \n",
       "PS160       37.90  \n",
       "PS161       37.75  \n",
       "PS162       35.63  \n",
       "\n",
       "[5 rows x 28 columns]"
      ]
     },
     "execution_count": 3,
     "metadata": {},
     "output_type": "execute_result"
    }
   ],
   "source": [
    "travel_matrix = pd.read_csv('data/clinic_car_travel_time.csv', \n",
    "                            index_col='sector')\n",
    "travel_matrix.head()"
   ]
  },
  {
   "cell_type": "code",
   "execution_count": 4,
   "metadata": {},
   "outputs": [
    {
     "data": {
      "text/html": [
       "<div>\n",
       "<style scoped>\n",
       "    .dataframe tbody tr th:only-of-type {\n",
       "        vertical-align: middle;\n",
       "    }\n",
       "\n",
       "    .dataframe tbody tr th {\n",
       "        vertical-align: top;\n",
       "    }\n",
       "\n",
       "    .dataframe thead th {\n",
       "        text-align: right;\n",
       "    }\n",
       "</style>\n",
       "<table border=\"1\" class=\"dataframe\">\n",
       "  <thead>\n",
       "    <tr style=\"text-align: right;\">\n",
       "      <th></th>\n",
       "      <th>n_patients</th>\n",
       "    </tr>\n",
       "    <tr>\n",
       "      <th>sector</th>\n",
       "      <th></th>\n",
       "    </tr>\n",
       "  </thead>\n",
       "  <tbody>\n",
       "    <tr>\n",
       "      <th>PS1</th>\n",
       "      <td>3375</td>\n",
       "    </tr>\n",
       "    <tr>\n",
       "      <th>PS2</th>\n",
       "      <td>3338</td>\n",
       "    </tr>\n",
       "    <tr>\n",
       "      <th>PS3</th>\n",
       "      <td>2922</td>\n",
       "    </tr>\n",
       "    <tr>\n",
       "      <th>PS4</th>\n",
       "      <td>3191</td>\n",
       "    </tr>\n",
       "    <tr>\n",
       "      <th>PS5</th>\n",
       "      <td>3134</td>\n",
       "    </tr>\n",
       "  </tbody>\n",
       "</table>\n",
       "</div>"
      ],
      "text/plain": [
       "        n_patients\n",
       "sector            \n",
       "PS1           3375\n",
       "PS2           3338\n",
       "PS3           2922\n",
       "PS4           3191\n",
       "PS5           3134"
      ]
     },
     "execution_count": 4,
     "metadata": {},
     "output_type": "execute_result"
    }
   ],
   "source": [
    "# no of cases by postcode sector...\n",
    "\n",
    "cases = pd.read_csv('data/sh_demand.csv', index_col='sector')\n",
    "cases.head()"
   ]
  },
  {
   "cell_type": "markdown",
   "metadata": {},
   "source": [
    "# Representing a solution\n",
    "\n",
    "To solve the facility location problem using an an algorithm you need to decide how to represent a solution.  \n",
    "\n",
    "You will represent a solution using a vector of length $p$ where $p <= P$.  Each element represents the index of a clinic.  For example, if we have $P = 28$ candidate locations for clinics and wish to find the best solution where $p = 4$\n",
    "\n",
    "```python\n",
    "solution = np.array([10, 0, 6, 12])\n",
    "```\n",
    "means that clinics which indicies 10, 0, 6, and 12 are included in the solution.\n",
    "\n",
    "To select a set of clinics from a `pandas.DataFrame` you can use the code below.  The indicies are used select the column headers and the column headers are then used to select the column data from the dataframe."
   ]
  },
  {
   "cell_type": "code",
   "execution_count": 5,
   "metadata": {},
   "outputs": [
    {
     "data": {
      "text/html": [
       "<div>\n",
       "<style scoped>\n",
       "    .dataframe tbody tr th:only-of-type {\n",
       "        vertical-align: middle;\n",
       "    }\n",
       "\n",
       "    .dataframe tbody tr th {\n",
       "        vertical-align: top;\n",
       "    }\n",
       "\n",
       "    .dataframe thead th {\n",
       "        text-align: right;\n",
       "    }\n",
       "</style>\n",
       "<table border=\"1\" class=\"dataframe\">\n",
       "  <thead>\n",
       "    <tr style=\"text-align: right;\">\n",
       "      <th></th>\n",
       "      <th>clinic_11</th>\n",
       "      <th>clinic_1</th>\n",
       "      <th>clinic_7</th>\n",
       "      <th>clinic_13</th>\n",
       "    </tr>\n",
       "    <tr>\n",
       "      <th>sector</th>\n",
       "      <th></th>\n",
       "      <th></th>\n",
       "      <th></th>\n",
       "      <th></th>\n",
       "    </tr>\n",
       "  </thead>\n",
       "  <tbody>\n",
       "    <tr>\n",
       "      <th>PS158</th>\n",
       "      <td>49.40</td>\n",
       "      <td>33.17</td>\n",
       "      <td>53.28</td>\n",
       "      <td>52.78</td>\n",
       "    </tr>\n",
       "    <tr>\n",
       "      <th>PS159</th>\n",
       "      <td>45.80</td>\n",
       "      <td>31.42</td>\n",
       "      <td>49.68</td>\n",
       "      <td>49.18</td>\n",
       "    </tr>\n",
       "    <tr>\n",
       "      <th>PS160</th>\n",
       "      <td>48.05</td>\n",
       "      <td>31.82</td>\n",
       "      <td>51.95</td>\n",
       "      <td>51.43</td>\n",
       "    </tr>\n",
       "    <tr>\n",
       "      <th>PS161</th>\n",
       "      <td>47.92</td>\n",
       "      <td>31.68</td>\n",
       "      <td>51.80</td>\n",
       "      <td>51.30</td>\n",
       "    </tr>\n",
       "    <tr>\n",
       "      <th>PS162</th>\n",
       "      <td>45.78</td>\n",
       "      <td>29.55</td>\n",
       "      <td>49.67</td>\n",
       "      <td>49.17</td>\n",
       "    </tr>\n",
       "    <tr>\n",
       "      <th>...</th>\n",
       "      <td>...</td>\n",
       "      <td>...</td>\n",
       "      <td>...</td>\n",
       "      <td>...</td>\n",
       "    </tr>\n",
       "    <tr>\n",
       "      <th>PS273</th>\n",
       "      <td>47.18</td>\n",
       "      <td>34.13</td>\n",
       "      <td>49.08</td>\n",
       "      <td>50.57</td>\n",
       "    </tr>\n",
       "    <tr>\n",
       "      <th>PS157</th>\n",
       "      <td>42.65</td>\n",
       "      <td>29.60</td>\n",
       "      <td>44.55</td>\n",
       "      <td>46.03</td>\n",
       "    </tr>\n",
       "    <tr>\n",
       "      <th>PS274</th>\n",
       "      <td>44.23</td>\n",
       "      <td>31.17</td>\n",
       "      <td>46.13</td>\n",
       "      <td>47.62</td>\n",
       "    </tr>\n",
       "    <tr>\n",
       "      <th>PS275</th>\n",
       "      <td>48.78</td>\n",
       "      <td>34.40</td>\n",
       "      <td>52.68</td>\n",
       "      <td>52.17</td>\n",
       "    </tr>\n",
       "    <tr>\n",
       "      <th>PS276</th>\n",
       "      <td>50.85</td>\n",
       "      <td>37.80</td>\n",
       "      <td>52.77</td>\n",
       "      <td>54.23</td>\n",
       "    </tr>\n",
       "  </tbody>\n",
       "</table>\n",
       "<p>278 rows × 4 columns</p>\n",
       "</div>"
      ],
      "text/plain": [
       "        clinic_11  clinic_1  clinic_7  clinic_13\n",
       "sector                                          \n",
       "PS158       49.40     33.17     53.28      52.78\n",
       "PS159       45.80     31.42     49.68      49.18\n",
       "PS160       48.05     31.82     51.95      51.43\n",
       "PS161       47.92     31.68     51.80      51.30\n",
       "PS162       45.78     29.55     49.67      49.17\n",
       "...           ...       ...       ...        ...\n",
       "PS273       47.18     34.13     49.08      50.57\n",
       "PS157       42.65     29.60     44.55      46.03\n",
       "PS274       44.23     31.17     46.13      47.62\n",
       "PS275       48.78     34.40     52.68      52.17\n",
       "PS276       50.85     37.80     52.77      54.23\n",
       "\n",
       "[278 rows x 4 columns]"
      ]
     },
     "execution_count": 5,
     "metadata": {},
     "output_type": "execute_result"
    }
   ],
   "source": [
    "# the solution represents the indicies of clinics in the travel matrix\n",
    "solution = np.array([10, 0, 6, 12])\n",
    "\n",
    "# this code looks up the column names using the indicies in the solution\n",
    "# if you are unsure what it does then print out `mask`\n",
    "mask = travel_matrix.columns[solution]\n",
    "\n",
    "# finally we select a restricted set of columns from the DataFrame\n",
    "travel_matrix[mask]"
   ]
  },
  {
   "cell_type": "markdown",
   "metadata": {},
   "source": [
    "# Constructing a random solution\n",
    "\n",
    "It is unusual to specify an initial solution in facility location.  It is more usual to **generate** one or more random solutions as a starting place.\n",
    "\n",
    "The function `random_solution` accepts:\n",
    "* `n_candidates`: The number of candidate locations where you could place clinics (facilities)\n",
    "* `p` the number of clinics to place.\n",
    "* `random_seed` (optional).  Use if you wanted to recreate your results."
   ]
  },
  {
   "cell_type": "code",
   "execution_count": 6,
   "metadata": {},
   "outputs": [],
   "source": [
    "def random_solution(n_candidates, p, random_seed=None):\n",
    "    '''\n",
    "    construct a random solution for the facility location\n",
    "    problem.  Returns vector of length p\n",
    "    '''\n",
    "    # create a random number generator\n",
    "    rng = np.random.default_rng(seed=random_seed)\n",
    "\n",
    "    # sample without replacement\n",
    "    solution = []\n",
    "    while len(solution) < p:\n",
    "        candidate = rng.integers(0, n_candidates)\n",
    "        if candidate not in solution:\n",
    "            solution.append(candidate)\n",
    "            \n",
    "    return np.array(solution)"
   ]
  },
  {
   "cell_type": "code",
   "execution_count": 7,
   "metadata": {},
   "outputs": [
    {
     "data": {
      "text/plain": [
       "array([ 2, 21, 18, 12])"
      ]
     },
     "execution_count": 7,
     "metadata": {},
     "output_type": "execute_result"
    }
   ],
   "source": [
    "init_solution = random_solution(28, 4, random_seed=42)\n",
    "init_solution"
   ]
  },
  {
   "cell_type": "markdown",
   "metadata": {},
   "source": [
    "It is not strictly necessary, but if you wish to have a more efficient implementation of the above you can make use of numpy's built-in `choice` method that allows you to sample **without** replacement."
   ]
  },
  {
   "cell_type": "code",
   "execution_count": 8,
   "metadata": {},
   "outputs": [],
   "source": [
    "def random_solution2(n_candidates, p, random_seed=None):\n",
    "    '''\n",
    "    construct a random solution for the facility location\n",
    "    problem.  Returns vector of length p\n",
    "    '''\n",
    "    # create a random number generator\n",
    "    rng = np.random.default_rng(seed=random_seed)\n",
    "    \n",
    "    # create array of candidate indexes\n",
    "    candidates = np.arange(n_candidates, dtype=np.byte)\n",
    "    \n",
    "    # sample without replacement and return array\n",
    "    return rng.choice(candidates, size=p, replace=False)"
   ]
  },
  {
   "cell_type": "code",
   "execution_count": 9,
   "metadata": {},
   "outputs": [
    {
     "data": {
      "text/plain": [
       "array([11, 26, 24, 27], dtype=int8)"
      ]
     },
     "execution_count": 9,
     "metadata": {},
     "output_type": "execute_result"
    }
   ],
   "source": [
    "init_solution = random_solution2(28, 4)\n",
    "init_solution"
   ]
  },
  {
   "cell_type": "markdown",
   "metadata": {},
   "source": [
    "# Evaluating a solution\n",
    "\n",
    "There are multiple ways to formulate the objectives of a facility location problem.  With the sexual health case study you will formulate the it as a p-median problem.  Where the objective is to find the combination of facilities that minimises the weighted average car travel time to a clinic.\n",
    "\n",
    "`metapy` contains a `WeightAverageObjective` class that accepts both the geospatial demand and travel matrix as parameters.\n",
    "\n",
    "```python\n",
    "from metapy.evolutionary.evolutionary import WeightedAverageObjective\n",
    "\n",
    "# create an instance and pass in demand and travel times\n",
    "obj = WeightedAverageObjective(cases, travel_matrix)\n",
    "```\n",
    "\n",
    "The object has a method `evaluate(solution)` that accepts a numpy vector that is your representation of the a solution.\n",
    "\n",
    "```python\n",
    "obj.evaluate(solution)\n",
    "```\n",
    "\n",
    "The code below brings these together.  Execute the cell to see the output."
   ]
  },
  {
   "cell_type": "code",
   "execution_count": 10,
   "metadata": {},
   "outputs": [
    {
     "data": {
      "text/plain": [
       "np.float64(14.510030062602892)"
      ]
     },
     "execution_count": 10,
     "metadata": {},
     "output_type": "execute_result"
    }
   ],
   "source": [
    "obj = WeightedAverageObjective(cases, travel_matrix)\n",
    "obj.evaluate(solution)"
   ]
  },
  {
   "cell_type": "markdown",
   "metadata": {},
   "source": [
    "# Solution of a small facility location problem by enumerating all possible combinations"
   ]
  },
  {
   "cell_type": "markdown",
   "metadata": {},
   "source": [
    "For small problems it is possible to enumerate all combinations to locate the \"optimal\" solution.  \n",
    "\n",
    "The function `all_combinations` below will provide a list of solutions representing an exhaustive solution space for a given problem.  For example, if the problem consisted of 10 candidate locations and you wish to evaluate solutions of size 4 then the solution space is fully represented by 210 unique solutions.\n",
    "\n",
    "This method is straightforward for health service customers to understand and for small problems it is unusual to use a complex optimisation procedure.  As the facility location problem is NP hard, this strategy is not recommended for large scale problems.  The evaluation of the fitness of the solutions will become prohibitive as the size of the problem begins to exceed 10."
   ]
  },
  {
   "cell_type": "code",
   "execution_count": 11,
   "metadata": {},
   "outputs": [],
   "source": [
    "def all_combinations(n_facilities, p):\n",
    "    '''\n",
    "    Returns all p sized combinations of an array containing\n",
    "    indicies 0 to n_facilties - 1 \n",
    "    '''\n",
    "    facility = np.arange(n_facilities, dtype=np.uint8)\n",
    "    return [np.array(a) for a in combinations(facility, p)]"
   ]
  },
  {
   "cell_type": "code",
   "execution_count": 12,
   "metadata": {},
   "outputs": [
    {
     "data": {
      "text/plain": [
       "210"
      ]
     },
     "execution_count": 12,
     "metadata": {},
     "output_type": "execute_result"
    }
   ],
   "source": [
    "# size 4 combinations of 10 candidate locations = 210\n",
    "comb = all_combinations(n_facilities=10, p=4)\n",
    "len(comb)"
   ]
  },
  {
   "cell_type": "code",
   "execution_count": 13,
   "metadata": {},
   "outputs": [
    {
     "data": {
      "text/plain": [
       "array([0, 1, 2, 3], dtype=uint8)"
      ]
     },
     "execution_count": 13,
     "metadata": {},
     "output_type": "execute_result"
    }
   ],
   "source": [
    "# take a look at index 0\n",
    "comb[0]"
   ]
  },
  {
   "cell_type": "code",
   "execution_count": 14,
   "metadata": {},
   "outputs": [
    {
     "data": {
      "text/plain": [
       "array([6, 7, 8, 9], dtype=uint8)"
      ]
     },
     "execution_count": 14,
     "metadata": {},
     "output_type": "execute_result"
    }
   ],
   "source": [
    "# index 209\n",
    "comb[-1]"
   ]
  },
  {
   "cell_type": "markdown",
   "metadata": {},
   "source": [
    "# Exercise 1: Bruteforce solution\n",
    "\n",
    "As an example we will work with the **first six clinics** and look to find the optimal 4 sites according to the weighted average.\n",
    "\n",
    "**Task:**\n",
    "* Generate all combinations to place 4 facilities in a problem with 6 candidate locations.\n",
    "* For each of the solutions calculate the weighted average travel time.\n",
    "* Select the solution with the lowest weight mean car travel time.\n",
    "* Illustrate all of the solutions on a bar chart.  \n",
    "\n",
    "**Questions:**\n",
    "* Does the problem have a unique \"optimal\" solution or are there other solutions that a health service customer might consider?\n",
    "* Are there any limitations with the data that make it important to report more than a single solution?\n",
    "* What happens to the travel times and solution if $p$ is reduced to 3?"
   ]
  },
  {
   "cell_type": "code",
   "execution_count": 15,
   "metadata": {},
   "outputs": [],
   "source": [
    "# your code goes here ..."
   ]
  },
  {
   "cell_type": "code",
   "execution_count": 16,
   "metadata": {},
   "outputs": [
    {
     "data": {
      "text/plain": [
       "15"
      ]
     },
     "execution_count": 16,
     "metadata": {},
     "output_type": "execute_result"
    }
   ],
   "source": [
    "# example solution\n",
    "\n",
    "# size 4 combinations of 6 candidate locations = 15 combinations\n",
    "comb = all_combinations(n_facilities=6, p=4)\n",
    "len(comb)"
   ]
  },
  {
   "cell_type": "code",
   "execution_count": 17,
   "metadata": {},
   "outputs": [
    {
     "data": {
      "text/plain": [
       "[array([0, 1, 2, 3], dtype=uint8),\n",
       " array([0, 1, 2, 4], dtype=uint8),\n",
       " array([0, 1, 2, 5], dtype=uint8),\n",
       " array([0, 1, 3, 4], dtype=uint8),\n",
       " array([0, 1, 3, 5], dtype=uint8),\n",
       " array([0, 1, 4, 5], dtype=uint8),\n",
       " array([0, 2, 3, 4], dtype=uint8),\n",
       " array([0, 2, 3, 5], dtype=uint8),\n",
       " array([0, 2, 4, 5], dtype=uint8),\n",
       " array([0, 3, 4, 5], dtype=uint8),\n",
       " array([1, 2, 3, 4], dtype=uint8),\n",
       " array([1, 2, 3, 5], dtype=uint8),\n",
       " array([1, 2, 4, 5], dtype=uint8),\n",
       " array([1, 3, 4, 5], dtype=uint8),\n",
       " array([2, 3, 4, 5], dtype=uint8)]"
      ]
     },
     "execution_count": 17,
     "metadata": {},
     "output_type": "execute_result"
    }
   ],
   "source": [
    "comb"
   ]
  },
  {
   "cell_type": "code",
   "execution_count": 18,
   "metadata": {},
   "outputs": [
    {
     "name": "stdout",
     "output_type": "stream",
     "text": [
      "optimal cost: 12.919422203379565\n",
      "optimal solution: [1 3 4 5]\n"
     ]
    },
    {
     "data": {
      "image/png": "[encoded data removed]",
      "text/plain": [
       "<Figure size 1200x600 with 1 Axes>"
      ]
     },
     "metadata": {},
     "output_type": "display_data"
    }
   ],
   "source": [
    "# example solution...\n",
    "\n",
    "# create objective function...\n",
    "obj = WeightedAverageObjective(cases, travel_matrix)\n",
    "\n",
    "results = []\n",
    "for solution in comb:\n",
    "    results.append(obj.evaluate(solution))\n",
    "results = np.array(results)\n",
    "\n",
    "# get the index of the minimum\n",
    "optimal_index = np.argmin(results)\n",
    "\n",
    "fig, ax = plt.subplots(1, 1, figsize=(12, 6))\n",
    "\n",
    "# convert solutions to strings\n",
    "\n",
    "xlabels = []\n",
    "for solution in comb:\n",
    "    label = '-'.join(str(a) for a in solution)\n",
    "    xlabels.append(label)\n",
    "\n",
    "barlist = ax.bar(xlabels, results)\n",
    "barlist[optimal_index].set_color('r')\n",
    "\n",
    "print(f'optimal cost: {results[optimal_index]}')\n",
    "print(f'optimal solution: {comb[optimal_index]}')"
   ]
  },
  {
   "cell_type": "code",
   "execution_count": 19,
   "metadata": {},
   "outputs": [
    {
     "name": "stdout",
     "output_type": "stream",
     "text": [
      "20 combinations\n",
      "optimal cost: 13.512949934203643\n",
      "optimal solution: [0 1 5]\n"
     ]
    },
    {
     "data": {
      "image/png": "[encoded data removed]",
      "text/plain": [
       "<Figure size 1200x600 with 1 Axes>"
      ]
     },
     "metadata": {},
     "output_type": "display_data"
    }
   ],
   "source": [
    "# reduce p to 3\n",
    "comb = all_combinations(n_facilities=6, p=3)\n",
    "print(f'{len(comb)} combinations')\n",
    "# create objective function...\n",
    "obj = WeightedAverageObjective(cases, travel_matrix)\n",
    "\n",
    "results = []\n",
    "for solution in comb:\n",
    "    results.append(obj.evaluate(solution))\n",
    "results = np.array(results)\n",
    "\n",
    "# get the index of the minimum\n",
    "optimal_index = np.argmin(results)\n",
    "\n",
    "fig, ax = plt.subplots(1, 1, figsize=(12, 6))\n",
    "\n",
    "# convert solutions to strings\n",
    "\n",
    "xlabels = []\n",
    "for solution in comb:\n",
    "    label = '-'.join(str(a) for a in solution)\n",
    "    xlabels.append(label)\n",
    "\n",
    "barlist = ax.bar(xlabels, results)\n",
    "barlist[optimal_index].set_color('r')\n",
    "\n",
    "print(f'optimal cost: {results[optimal_index]}')\n",
    "print(f'optimal solution: {comb[optimal_index]}')"
   ]
  },
  {
   "cell_type": "markdown",
   "metadata": {},
   "source": [
    "# Exercise 2: Using random restarts with medium to large sized problems\n",
    "\n",
    "When you encounter a medium to large instance of a facility location problem (or any optimisation problem) it is often tempting to move quickly onto a sophisticated solution method such as a evolutionary algorithm.  But how do you know that it is better than a simple heuristic?  \n",
    "\n",
    "**Here you will use the random restarts algorithm (sometimes called random search) as a simple benchmark.**\n",
    "\n",
    "Random restarts is simple heuristic.  You allocate a computational budget - either in terms of iterations or execution time - and randomly generate solutions and evaluate them. For example, you might specify an execution time limit of 10 seconds and in that time evaluate as many random solutions as possible.  \n",
    "\n",
    "> A neat trick with this type of algorithm is to remember that it is 'Embarrassingly parallelisible'.  That is, if your machine has multiple virtual cores then you can run multiple random searches simultaneously and return the best solution.  \n",
    "\n",
    "**Task:**\n",
    "* Using the `random_solution` function defined earlier create another function `random_restarts` (or class `RandomRestarts` if you prefer) that runs for fixed number of iterations.  For example if you specify iterations as 10 then the algorithm generates 10 random solutions and evaluates them.  \n",
    "* The function should return a tuple of the best cost and best solution found when minimising the weighted average car travel time.\n",
    "* Problem: 20 candidate locations and a budget of 8 clinics to place.\n",
    "* Try running the algorithm a few times or varying your budget. What do you notice?  What might you do to get a better understanding of the algorithms performance?"
   ]
  },
  {
   "cell_type": "code",
   "execution_count": 20,
   "metadata": {},
   "outputs": [],
   "source": [
    "# your code goes here ..."
   ]
  },
  {
   "cell_type": "code",
   "execution_count": 21,
   "metadata": {},
   "outputs": [],
   "source": [
    "# example solution\n",
    "\n",
    "def random_restarts(max_iter, obj, n_facilities=28, p=14, random_seed=None):\n",
    "    \n",
    "    np.random.seed(random_seed)\n",
    "    \n",
    "    # implementation of random restarts alg\n",
    "    # code modified for 2025. np.Inf deprecated for np.inf\n",
    "    best_cost = np.inf\n",
    "    best_solution = None\n",
    "    for i in range(max_iter):\n",
    "        solution = random_solution(n_facilities, p)\n",
    "        cost = obj.evaluate(solution)\n",
    "        \n",
    "        if cost < best_cost:\n",
    "            best_cost = cost\n",
    "            best_solution = solution\n",
    "            \n",
    "    return best_cost, solution\n",
    "        "
   ]
  },
  {
   "cell_type": "code",
   "execution_count": 22,
   "metadata": {},
   "outputs": [
    {
     "data": {
      "text/plain": [
       "(np.float64(6.0594942214832),\n",
       " array([17, 16,  9,  7, 19,  4,  3, 15, 25,  0, 14,  6,  2, 27]))"
      ]
     },
     "execution_count": 22,
     "metadata": {},
     "output_type": "execute_result"
    }
   ],
   "source": [
    "max_iter = 1000\n",
    "\n",
    "# create objective function...\n",
    "obj = WeightedAverageObjective(cases, travel_matrix)\n",
    "\n",
    "random_restarts(max_iter, obj)"
   ]
  },
  {
   "cell_type": "markdown",
   "metadata": {},
   "source": [
    "# Exercise 3: Solution using a evolutionary algorithm"
   ]
  },
  {
   "cell_type": "markdown",
   "metadata": {},
   "source": [
    "## Exercise 3.1 Generating an initial population.\n",
    "\n",
    "The first task when using a population based method is to create an initial random population of solutions!  For our purposes, this is a multi-dimensional array.  We can use an object of type `FacilityLocationPopulationGenerator` to do the work for us here.\n",
    "\n",
    "```python\n",
    "from metapy.evolutionary.evolutionary import FacilityLocationPopulationGenerator\n",
    "```\n",
    "\n",
    "`FacilityLocationPopulationGenerator` accepts three arguments when it is created:\n",
    "\n",
    "* n_candidates: int.  This is $P$ the number of candidate locations\n",
    "* n_facilities: int. This is $p$ the number of facilities to place.\n",
    "* random_seed: int, optional (default=None).  Set if you want a reproducible result.  For example = 42.\n",
    "\n",
    "`FacilityLocationPopulationGenerator` has a single method `generate` that accepts a parameter specifying the population size.  It returns a multi-dimensional numpy array.\n",
    "\n",
    "Let's assume you want have a problem with $P$ = 28, $p$ = 8 and we want to create a population of size 10.\n",
    "\n",
    "```python\n",
    "#example solution\n",
    "N_CANDIDATES = 28\n",
    "N_FACILITIES = 8\n",
    "SEED = 42\n",
    "POPULATION_SIZE = 10\n",
    "\n",
    "gen = FacilityLocationPopulationGenerator(n_candidates=N_CANDIDATES,\n",
    "                                          n_facilities=N_FACILITIES,\n",
    "                                          random_seed=SEED)\n",
    "\n",
    "\n",
    "gen.generate(population_size=POPULATION_SIZE)\n",
    "```\n",
    "\n",
    "**Task:**\n",
    "\n",
    "* Run the example code given above to create an initial population.  "
   ]
  },
  {
   "cell_type": "code",
   "execution_count": 23,
   "metadata": {},
   "outputs": [
    {
     "data": {
      "text/plain": [
       "array([[ 2, 19, 22, 15, 24, 10,  1, 17],\n",
       "       [24, 16, 11, 10,  2, 20, 13,  5],\n",
       "       [23,  1,  4, 27, 13,  9, 22,  2],\n",
       "       [ 5,  9, 19, 25, 22, 20, 10, 16],\n",
       "       [ 8, 24, 25, 16, 27, 10, 23, 19],\n",
       "       [24, 13,  5,  7,  9,  4, 16, 11],\n",
       "       [19, 17, 27, 23,  6, 22,  9,  7],\n",
       "       [17, 15,  7, 24, 16, 21, 27, 11],\n",
       "       [25,  2, 14,  9, 15, 11, 27, 21],\n",
       "       [13,  7,  0, 10,  6, 25,  5,  8]], dtype=int8)"
      ]
     },
     "execution_count": 23,
     "metadata": {},
     "output_type": "execute_result"
    }
   ],
   "source": [
    "# example solution\n",
    "N_CANDIDATES = 28\n",
    "N_FACILITIES = 8\n",
    "SEED = 42\n",
    "POPULATION_SIZE = 10\n",
    "\n",
    "gen = FacilityLocationPopulationGenerator(n_candidates=N_CANDIDATES,\n",
    "                                          n_facilities=N_FACILITIES,\n",
    "                                          random_seed=SEED)\n",
    "\n",
    "\n",
    "gen.generate(population_size=10)"
   ]
  },
  {
   "cell_type": "markdown",
   "metadata": {},
   "source": [
    "# Exercise 3.2: Mutating a solution\n",
    "\n",
    "Basic evolutionary strategies work by mutating the most promising solutions in the population.  There are many ways to implement mutation.  Here you will use `BasicFacilityLocationMutator`.  Each element in a solution has a constant probability of mutation (by default 1 / no. of facilities in a solution, but you may wish to set this higher.).  If a facility is chosen then it is replaced by a random facility current not in the solution.\n",
    "\n",
    "You can create a `BasicFacilityLocationMutator` as follows:\n",
    "\n",
    "```python\n",
    "mutator = FacilityLocationMutator(n_candidates=28, solution_size=4)\n",
    "solution = np.array([1, 2, 3, 4])\n",
    "\n",
    "mutant = mutator.mutate(solution)\n",
    "print(mutant)\n",
    "```\n",
    "\n",
    "To use a higher mutation rate:\n",
    "\n",
    "```python\n",
    "mutator = FacilityLocationMutator(n_candidates=28, solution_size=4\n",
    "                                  mutation_rate=0.6)\n",
    "solution = np.array([1, 2, 3, 4])\n",
    "\n",
    "mutant = mutator.mutate(solution)\n",
    "print(mutant)\n",
    "```\n",
    "\n",
    "**Task**:\n",
    "* Create a `FacilityLocationMutator` with 50 candidate solutions and a solution size of 10\n",
    "* mutate the solution a total of 10 times and printout the generations.\n"
   ]
  },
  {
   "cell_type": "code",
   "execution_count": 24,
   "metadata": {},
   "outputs": [],
   "source": [
    "# your code goes here ..."
   ]
  },
  {
   "cell_type": "code",
   "execution_count": 25,
   "metadata": {},
   "outputs": [
    {
     "name": "stdout",
     "output_type": "stream",
     "text": [
      "[10 11 12  5]\n"
     ]
    }
   ],
   "source": [
    "# example solution\n",
    "\n",
    "# single mutation example\n",
    "mutator = BasicFacilityLocationMutator(n_candidates=28, solution_size=4, mutation_rate=0.5)\n",
    "solution = np.array([10, 11, 12, 13])\n",
    "\n",
    "print(mutator.mutate(solution))"
   ]
  },
  {
   "cell_type": "code",
   "execution_count": 26,
   "metadata": {},
   "outputs": [
    {
     "name": "stdout",
     "output_type": "stream",
     "text": [
      "solution [0 1 2 3 4]\n",
      "solution [0 1 2 3 4]\n",
      "solution [ 0  2  3  4 36]\n",
      "solution [ 2  3 36 44 30]\n",
      "solution [ 2 36 44 49 11]\n",
      "solution [ 2 44 49 11 30]\n",
      "solution [44 49 11 30 38]\n",
      "solution [44 49 11 38 16]\n",
      "solution [44 49 11 38 16]\n",
      "solution [44 49 11 38 16]\n"
     ]
    }
   ],
   "source": [
    "# mutating through 5 generations\n",
    "mutator = BasicFacilityLocationMutator(n_candidates=50, solution_size=5, \n",
    "                                       mutation_rate=0.2)\n",
    "solution = np.arange(5)\n",
    "\n",
    "for i in range(10):\n",
    "    solution = mutator.mutate(solution)\n",
    "    print(f'solution {solution}')\n"
   ]
  },
  {
   "cell_type": "markdown",
   "metadata": {},
   "source": [
    "# Exercise 3.3: The $(\\mu, \\lambda)$ and $(\\mu+\\lambda)$ evolutionary strategies\n",
    "\n",
    "A random initial population and a mutation operator provide the ingredients for the two basic evolutionary strategies $(\\mu, \\lambda)$ and $(\\mu+\\lambda)$.\n",
    "\n",
    "You will use the `metapy` package.  In particular:\n",
    "\n",
    "\n",
    "**Task:**\n",
    "* Run two evolutionary algorithms with $(\\mu, \\lambda)$ and $(\\mu+\\lambda)$  strategies respectively.  The code is  provided below.\n",
    "* Investigate the parameters requried when creating `MuPlusLambdaEvolutionStrategy` and `MuLambdaEvolutionStrategy`\n",
    "* Use a problem size of 28 candidate locations and 14 facilities\n",
    "* Initially try $mu = 10$ and $\\lambda = 200$. \n",
    "* Using a random initial population evolve for 50 generations.\n",
    "\n",
    "**Hints**:\n",
    "* Evolutionary strategies are computationally expensive.  Expect a 50 generation algorithm to take 20-45 seconds on your machine.\n",
    "\n",
    "**Questions:**\n",
    "* How do your new solutions and algorithms compare to `random_restarts?`\n",
    "* How do the algorithms appear to compare to each other?\n",
    "* What must your remember about evolutionary algorithms when evaluating their performance?"
   ]
  },
  {
   "cell_type": "code",
   "execution_count": 27,
   "metadata": {},
   "outputs": [
    {
     "name": "stdout",
     "output_type": "stream",
     "text": [
      "\n",
      "Running (mu + lambda) evolutionary alg...\n",
      "\n",
      "** (MU+LAMBDA) OUTPUT ***\n",
      "best cost:\t5.8758212431381835\n",
      "best solutions:\n",
      "[15  8 11  0 17 22  4 10  3  1 26  6  7 24]\n",
      "CPU times: user 22.5 s, sys: 105 ms, total: 22.6 s\n",
      "Wall time: 22.6 s\n"
     ]
    }
   ],
   "source": [
    "%%time\n",
    "\n",
    "# example solution\n",
    "\n",
    "# Evolutionary Algorithm - (mu+lambda) strategy\n",
    "n_candidates = 28\n",
    "n_facilities = 14\n",
    "\n",
    "mu = 10\n",
    "_lambda = 200\n",
    "\n",
    "# objective\n",
    "objective = WeightedAverageObjective(cases, travel_matrix)\n",
    "\n",
    "# initial solution generator\n",
    "init = FacilityLocationPopulationGenerator(n_candidates, n_facilities)\n",
    "\n",
    "# mutation operator\n",
    "mutator = BasicFacilityLocationMutator(n_candidates=n_candidates, \n",
    "                                       solution_size=n_facilities, \n",
    "                                       mutation_rate=0.2, verbose=False)\n",
    "\n",
    "# evolutionary stategy\n",
    "strategy = MuPlusLambdaEvolutionStrategy(mu, _lambda, mutator)\n",
    "\n",
    "# solver object\n",
    "solver = EvolutionaryAlgorithm(init, objective, _lambda, strategy, \n",
    "                               maximisation=False, generations=50)\n",
    "\n",
    "print(\"\\nRunning (mu + lambda) evolutionary alg...\")\n",
    "solver.solve()\n",
    "\n",
    "print(\"\\n** (MU+LAMBDA) OUTPUT ***\")\n",
    "print(\"best cost:\\t{0}\".format(solver.best_fitness))\n",
    "print(\"best solutions:\")\n",
    "print(solver.best_solution)"
   ]
  },
  {
   "cell_type": "code",
   "execution_count": 29,
   "metadata": {},
   "outputs": [
    {
     "name": "stdout",
     "output_type": "stream",
     "text": [
      "\n",
      "Running (mu, lambda) evolutionary alg...\n",
      "\n",
      "** (MU,LAMBDA) OUTPUT ***\n",
      "best cost:\t5.884854394590933\n",
      "best solutions:\n",
      "[ 0  1  3  4  6  7  8 10 11 15 17 19 22 24]\n",
      "CPU times: user 22.9 s, sys: 137 μs, total: 22.9 s\n",
      "Wall time: 22.9 s\n"
     ]
    }
   ],
   "source": [
    "%%time\n",
    "\n",
    "# Evolutionary Algorithm - (mu,lambda) strategy\n",
    "n_candidates = 28\n",
    "n_facilities = 14\n",
    "\n",
    "mu = 10\n",
    "_lambda = 200\n",
    "\n",
    "# objective\n",
    "objective = WeightedAverageObjective(cases, travel_matrix)\n",
    "\n",
    "# initial solution generator\n",
    "init = FacilityLocationPopulationGenerator(n_candidates, n_facilities)\n",
    "\n",
    "# mutation operator\n",
    "mutator = BasicFacilityLocationMutator(n_candidates=n_candidates, \n",
    "                                       solution_size=n_facilities, \n",
    "                                       mutation_rate=0.2, verbose=False)\n",
    "\n",
    "# evolutionary stategy\n",
    "strategy = MuLambdaEvolutionStrategy(mu, _lambda, mutator)\n",
    "\n",
    "# solver object\n",
    "solver = EvolutionaryAlgorithm(init, objective, _lambda, strategy, \n",
    "                               maximisation=False, generations=50)\n",
    "\n",
    "print(\"\\nRunning (mu, lambda) evolutionary alg...\")\n",
    "solver.solve()\n",
    "\n",
    "print(\"\\n** (MU,LAMBDA) OUTPUT ***\")\n",
    "print(\"best cost:\\t{0}\".format(solver.best_fitness))\n",
    "print(\"best solutions:\")\n",
    "print(solver.best_solution)"
   ]
  },
  {
   "cell_type": "markdown",
   "metadata": {},
   "source": [
    "# Exercise 4: Locating facilities using a full Genetic Algorithm (GA)\n",
    "\n",
    "Now that you have warmed up using  $(\\mu, \\lambda)$ and $(\\mu+\\lambda)$  it is time to move onto a full GA.  This means you need to take account of two further steps.\n",
    "\n",
    "* A selection operator for breeding - in this instance you will use the provided `TournamentSelector`\n",
    "* A crossover operator for breeding - you will use `FacilityLocationSinglePointCrossover`\n",
    "\n",
    "See lecture slides for details of how these work.\n",
    "\n",
    "`metapy` provides standard and elitist GA strategies.  The code provided in this task demonstrates how these are instantiated and used to solve the sexual health clinic facility location problem.\n",
    "\n",
    "**Task:**\n",
    "\n",
    "The two code blocks below have been provided to demonstrate how to use run the `metapy` implementations of a GA.  Note that these are similar to the two basic evolutionary strategies you used in the previous exercise.  \n",
    "\n",
    "* Run `GeneticAlgorithmStrategy` and `ElitistGeneticAlgorithmStrategy` using the parameters provided\n",
    "\n",
    "\n",
    "**Questions**:\n",
    "\n",
    "* Are you satisfied with the results?  If not you could try changing/tuning the parameters:\n",
    "    * lambda and mu\n",
    "    * the number of generations (note this will start to get slow with large numbers)\n",
    "    * the mutation rate\n",
    "    * (You could also work with a smaller problem size to speed things up).\n",
    "    \n",
    "* Which of the algorithms used fin this case study do you prefer the most and why?\n",
    "\n",
    "* Ultimately, in practice, if you are not satisfied with the performance of the GA you might need to code new cross-over and mutation operators! \n",
    "\n",
    "    "
   ]
  },
  {
   "cell_type": "code",
   "execution_count": 30,
   "metadata": {},
   "outputs": [
    {
     "name": "stdout",
     "output_type": "stream",
     "text": [
      "\n",
      "Running Genetic Algorithm\n",
      "\n",
      "** GA OUTPUT ***\n",
      "best cost:\t6.293889142775339\n",
      "best solutions:\n",
      "[ 0  1  3  4  5  7  8 10 11 17 18 22 23 27]\n",
      "CPU times: user 22.6 s, sys: 8.05 ms, total: 22.6 s\n",
      "Wall time: 22.6 s\n"
     ]
    }
   ],
   "source": [
    "%%time\n",
    "\n",
    "# Evolutionary Algorithm - Genetic Algorithm strategy\n",
    "\n",
    "n_candidates = 28\n",
    "n_facilities = 14\n",
    "\n",
    "_lambda = 200\n",
    "# objective\n",
    "objective = WeightedAverageObjective(cases, travel_matrix)\n",
    "\n",
    "# initial solution generator\n",
    "init = FacilityLocationPopulationGenerator(n_candidates, n_facilities)\n",
    "\n",
    "# mutation operator\n",
    "mutator = BasicFacilityLocationMutator(n_candidates=n_candidates, \n",
    "                                       solution_size=n_facilities, \n",
    "                                       mutation_rate=0.2, verbose=False)\n",
    "\n",
    "# cross over operator\n",
    "x_over = FacilityLocationSinglePointCrossOver()\n",
    "\n",
    "#GA strategy\n",
    "strategy = GeneticAlgorithmStrategy(_lambda, \n",
    "                                    selector=TournamentSelector(),\n",
    "                                    xoperator=x_over,\n",
    "                                    mutator=mutator)\n",
    "\n",
    "\n",
    "solver = EvolutionaryAlgorithm(init, objective,_lambda, strategy, \n",
    "                               maximisation=False, generations=50)\n",
    "print(\"\\nRunning Genetic Algorithm\")\n",
    "solver.solve()\n",
    "\n",
    "print(\"\\n** GA OUTPUT ***\")\n",
    "print(\"best cost:\\t{0}\".format(solver.best_fitness))\n",
    "print(\"best solutions:\")\n",
    "print(solver.best_solution)"
   ]
  },
  {
   "cell_type": "code",
   "execution_count": 31,
   "metadata": {},
   "outputs": [
    {
     "name": "stdout",
     "output_type": "stream",
     "text": [
      "\n",
      "Running Elitist Genetic Algorithm\n",
      "\n",
      "** ELITIST GA OUTPUT ***\n",
      "best cost:\t6.27909751625638\n",
      "best solutions:\n",
      "[ 0  3  4  5  8  9 11 12 13 16 17 20 22 27]\n",
      "CPU times: user 23.5 s, sys: 41 μs, total: 23.5 s\n",
      "Wall time: 23.5 s\n"
     ]
    }
   ],
   "source": [
    "%%time \n",
    "\n",
    "# Evolutionary Algorithm - Elitist Genetic Algorithm strategy\n",
    "\n",
    "n_candidates = 28\n",
    "n_facilities = 14\n",
    "\n",
    "# GA parameters\n",
    "mu = 10\n",
    "_lambda = 200\n",
    "\n",
    "# objective\n",
    "objective = WeightedAverageObjective(cases, travel_matrix)\n",
    "\n",
    "# initial solution generator\n",
    "init = FacilityLocationPopulationGenerator(n_candidates, n_facilities)\n",
    "\n",
    "# mutation operator\n",
    "mutator = BasicFacilityLocationMutator(n_candidates=n_candidates, \n",
    "                                       solution_size=n_facilities, \n",
    "                                       mutation_rate=0.2, verbose=False)\n",
    "\n",
    "# cross over operator\n",
    "x_over = FacilityLocationSinglePointCrossOver()\n",
    "\n",
    "# GA strategy\n",
    "strategy = ElitistGeneticAlgorithmStrategy(mu,\n",
    "                                           _lambda, \n",
    "                                           selector=TournamentSelector(),\n",
    "                                           xoperator=x_over,\n",
    "                                           mutator=mutator)\n",
    "\n",
    "\n",
    "solver = EvolutionaryAlgorithm(init, objective,_lambda, strategy, \n",
    "                               maximisation=False, generations=50)\n",
    "print(\"\\nRunning Elitist Genetic Algorithm\")\n",
    "solver.solve()\n",
    "\n",
    "print(\"\\n** ELITIST GA OUTPUT ***\")\n",
    "print(\"best cost:\\t{0}\".format(solver.best_fitness))\n",
    "print(\"best solutions:\")\n",
    "print(solver.best_solution)"
   ]
  },
  {
   "cell_type": "markdown",
   "metadata": {},
   "source": [
    "# End"
   ]
  }
 ],
 "metadata": {
  "kernelspec": {
   "display_name": "Python 3 (ipykernel)",
   "language": "python",
   "name": "python3"
  },
  "language_info": {
   "codemirror_mode": {
    "name": "ipython",
    "version": 3
   },
   "file_extension": ".py",
   "mimetype": "text/x-python",
   "name": "python",
   "nbconvert_exporter": "python",
   "pygments_lexer": "ipython3",
   "version": "3.11.9"
  }
 },
 "nbformat": 4,
 "nbformat_minor": 4
}
