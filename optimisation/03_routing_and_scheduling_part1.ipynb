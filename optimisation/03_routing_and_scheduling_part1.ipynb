{
 "cells": [
  {
   "cell_type": "markdown",
   "metadata": {},
   "source": [
    "# HPDM097: Foundations of combinatorial optimisation for routing and scheduling problems in health\n",
    "\n",
    "Many healthcare systems manage assets or workforce that they need to deploy geographically. One example, is a community nursing team. These are teams of highly skilled nurses that must visit patients in their own home. Another example, is patient transport services where a fleet of non-emergency ambulances pick up patients from their own home and transport them to outpatient appointments in a clinical setting. These problems are highly complex. For example, in the community nursing example, patients will have a variety of conditions, treatments may be time dependent (for example, insulin injections), nurses will have mixed skills and staffing will vary over time.\n",
    "\n",
    "---\n",
    "\n",
    "# The Travelling Nurse Problem\n",
    "\n",
    "For simplicity you will first consider a single asset that has to visit patients in their own home and ignore the complex constraints described above. We will frame this problem as the famous **Travelling Salesperson (or Nurse!) Problem (TSP).**"
   ]
  },
  {
   "cell_type": "markdown",
   "metadata": {},
   "source": [
    "**By the end of this section you will have learnt how to:**\n",
    "\n",
    "* represent a routing and scheduling problem in a form suitable for solution by an optimisation algorithm\n",
    "* solve small instances of the Travelling Salesman Problem (TSP) using a brute force approach\n",
    "* solve and obtain good solutions to larger TSP problem by applying hill climbing algorithms in combination with stochastic algorithms\n",
    "* understand and apply a more intelligent hill climbing approach called Iterated Local Search\n",
    "\n",
    "> Please use the conda environment `hds_logistics` when running this workbook.  You will also need to run this workbook in the same directory as `metapy`.  This is a small python package that contains the code to solve the TSP."
   ]
  },
  {
   "cell_type": "markdown",
   "metadata": {},
   "source": [
    "# Imports"
   ]
  },
  {
   "cell_type": "code",
   "execution_count": null,
   "metadata": {},
   "outputs": [],
   "source": [
    "import numpy as np\n",
    "import matplotlib.pyplot as plt\n",
    "import time"
   ]
  },
  {
   "cell_type": "markdown",
   "metadata": {},
   "source": [
    "# `metapy` package imports"
   ]
  },
  {
   "cell_type": "code",
   "execution_count": null,
   "metadata": {},
   "outputs": [],
   "source": [
    "import metapy.tsp.tsp_io as io\n",
    "import metapy.tsp.euclidean as e\n",
    "\n",
    "\n",
    "from metapy.tsp.init_solutions import TSPPopulationGenerator\n",
    "\n",
    "from metapy.tsp.objective import SimpleTSPObjective, OptimisedSimpleTSPObjective\n",
    "from metapy.tsp.bruteforce import BruteForceSolver, RandomSearch\n",
    "\n",
    "from metapy.local_search.ils import (IteratedLocalSearch,\n",
    "                                     HigherQualityHomeBase,\n",
    "                                     RandomHomeBase,\n",
    "                                     EpsilonGreedyHomeBase,\n",
    "                                     AnnealingEpsilonGreedyHomeBase,\n",
    "                                     TempFastCoolingSchedule,\n",
    "                                     DoubleBridgePertubation,\n",
    "                                     TabuDoubleBridgeTweak)\n",
    "\n",
    "from metapy.local_search.hill_climbing import (HillClimber,\n",
    "                                               TweakTwoOpt, \n",
    "                                               SimpleTweak,\n",
    "                                               HillClimberRandomRestarts)\n",
    "\n",
    "\n",
    "from metapy.evolutionary.evolutionary import (EvolutionaryAlgorithm, \n",
    "                                              MuLambdaEvolutionStrategy, \n",
    "                                              MuPlusLambdaEvolutionStrategy, \n",
    "                                              GeneticAlgorithmStrategy,\n",
    "                                              ElitistGeneticAlgorithmStrategy,\n",
    "                                              TwoOptMutator, TwoCityMutator,\n",
    "                                              TruncationSelector, \n",
    "                                              TournamentSelector, \n",
    "                                              PartiallyMappedCrossover)"
   ]
  },
  {
   "cell_type": "markdown",
   "metadata": {},
   "source": [
    "# Load the data.\n",
    "\n",
    "In this notebook, you will work with the famous **st70** problem from [TSPLib](http://elib.zib.de/pub/mp-testdata/tsp/tsplib/tsplib.html).  \n",
    "\n",
    "> You will move onto a real health service dataset in **part 2** where you will work with the a more complex variant of this problem for routing and scheduling with multiple health service assets.\n",
    "\n",
    "The data is located in `data/st70.tsp`.  The data format from TSPLib contains both metadata and 2D coordinates of 'cities'.  The files therefore need some minor preprocessing before they are usable.\n",
    "\n",
    "> For efficiency you will work mainly with `numpy`.  It of course possible to use `pandas` for this type of problem, but you will pay a heavy price in terms of execution time!"
   ]
  },
  {
   "cell_type": "code",
   "execution_count": null,
   "metadata": {},
   "outputs": [],
   "source": [
    "#load file\n",
    "file_path = \"data/st70.tsp\"\n",
    "\n",
    "#number of rows in the file that are meta_data\n",
    "md_rows = 6\n",
    "\n",
    "#read the coordinates\n",
    "cities = io.read_coordinates(file_path, md_rows)\n",
    "\n",
    "#read the meta data\n",
    "meta = io.read_meta_data(file_path, md_rows)\n",
    "\n",
    "#should be an numpy.ndarray\n",
    "print(type(cities))\n",
    "\n",
    "# should be 70 cities\n",
    "print(cities.shape)\n",
    "\n",
    "#print first 2 coordinate pairs\n",
    "print(cities[:2])\n",
    "\n",
    "print(\"st70 meta data\")\n",
    "print(meta)"
   ]
  },
  {
   "cell_type": "markdown",
   "metadata": {},
   "source": [
    "The meta data confirms that problem is Euclidean 2D.  This means that we need to calculate the euclidean distance between points."
   ]
  },
  {
   "cell_type": "code",
   "execution_count": null,
   "metadata": {},
   "outputs": [],
   "source": [
    "#example of calculating a single euclidean distance\n",
    "e.euclidean_distance(cities[0], cities[1])"
   ]
  },
  {
   "cell_type": "code",
   "execution_count": null,
   "metadata": {},
   "outputs": [],
   "source": [
    "from decimal import Decimal, ROUND_HALF_UP\n",
    "\n",
    "def gen_matrix(cities, as_integer=False):\n",
    "    \"\"\"\n",
    "    Creates a numpy array of euclidian distances between 2 sets of\n",
    "    cities\n",
    "    \n",
    "    Parameters:\n",
    "    ----------\n",
    "    points: numpy.array\n",
    "        coordinate pairs\n",
    "    \n",
    "    as_integers: bool, optional (default=False)\n",
    "        If true then round to nearest int.\n",
    "        Behaviour: 1.5 -> 2\n",
    "                   1.2 -> 1\n",
    "                   1.8 -> 2\n",
    "                   \n",
    "    Returns:\n",
    "    -------\n",
    "        np.ndarray\n",
    "            Matrix of city to city costs\n",
    "    \n",
    "    \"\"\"\n",
    "    size = len(cities)\n",
    "    matrix = np.zeros(shape=(size, size))\n",
    "    \n",
    "    row = 0\n",
    "    col = 0\n",
    "    \n",
    "    for city1 in cities:\n",
    "        col = 0\n",
    "        for city2 in cities:\n",
    "            distance = e.euclidean_distance(city1, city2)\n",
    "            if as_integer:\n",
    "                distance = int(Decimal(distance).quantize(0, ROUND_HALF_UP))\n",
    "            matrix[row, col] = distance\n",
    "            col+=1\n",
    "        row +=1\n",
    "        \n",
    "    return matrix"
   ]
  },
  {
   "cell_type": "code",
   "execution_count": null,
   "metadata": {},
   "outputs": [],
   "source": [
    "#generate matrix\n",
    "matrix = gen_matrix(cities, as_integer=True)\n",
    "\n",
    "file_out = 'data/st70_matrix.csv'\n",
    "\n",
    "#output city matrix - to validate and use for manual calcs etc.\n",
    "np.savetxt(file_out, matrix, delimiter=\",\")"
   ]
  },
  {
   "cell_type": "code",
   "execution_count": null,
   "metadata": {},
   "outputs": [],
   "source": [
    "matrix.shape"
   ]
  },
  {
   "cell_type": "markdown",
   "metadata": {},
   "source": [
    "# Representation"
   ]
  },
  {
   "cell_type": "markdown",
   "metadata": {},
   "source": [
    "While you develop your code it is recommended that you work with a small tour.  This means that you can find the optimal solution by enumerating all solutions and check that your algorithm is working.\n",
    "\n",
    "Representation is straightforward in TSP.  It is recommended that create a `np.ndarray` as a vector of city indexes.  For example in a TSP problem with 8 cities."
   ]
  },
  {
   "cell_type": "code",
   "execution_count": null,
   "metadata": {},
   "outputs": [],
   "source": [
    "#create ordered list of cities to visit\n",
    "tour = np.arange(8)\n",
    "tour"
   ]
  },
  {
   "cell_type": "markdown",
   "metadata": {},
   "source": [
    "> Remember that the TSP is a loop.  You need to remember this when calculating the tour length"
   ]
  },
  {
   "cell_type": "markdown",
   "metadata": {},
   "source": [
    "# Calculating the length of a tour"
   ]
  },
  {
   "cell_type": "code",
   "execution_count": null,
   "metadata": {},
   "outputs": [],
   "source": [
    "objective = SimpleTSPObjective(matrix)\n",
    "objective.evaluate(tour)"
   ]
  },
  {
   "cell_type": "code",
   "execution_count": null,
   "metadata": {},
   "outputs": [],
   "source": [
    "rng = np.random.default_rng(seed=42)\n",
    "tour = np.arange(8)\n",
    "rng.shuffle(tour)\n",
    "tour"
   ]
  },
  {
   "cell_type": "code",
   "execution_count": null,
   "metadata": {},
   "outputs": [],
   "source": [
    "objective.evaluate(tour)"
   ]
  },
  {
   "cell_type": "code",
   "execution_count": null,
   "metadata": {},
   "outputs": [],
   "source": [
    "objective2 = OptimisedSimpleTSPObjective(matrix)\n",
    "objective2.evaluate(tour)"
   ]
  },
  {
   "cell_type": "code",
   "execution_count": null,
   "metadata": {},
   "outputs": [],
   "source": [
    "%timeit objective.evaluate(tour)"
   ]
  },
  {
   "cell_type": "code",
   "execution_count": null,
   "metadata": {},
   "outputs": [],
   "source": [
    "%timeit objective2.evaluate(tour)"
   ]
  },
  {
   "cell_type": "markdown",
   "metadata": {},
   "source": [
    "# Visualising a tour\n",
    "\n",
    "A simple way to visualise a tour is to use matplotlib.  The function `plot_tour` below has been provided to help you visualise a single tour.\n",
    "\n",
    "Run the code below.  It should be easy to see that this isn't a very sensible tour if your objective is to simply minimise travel distance!"
   ]
  },
  {
   "cell_type": "code",
   "execution_count": null,
   "metadata": {},
   "outputs": [],
   "source": [
    "def plot_tour(tour, cities, figsize=(6,4)):\n",
    "    '''\n",
    "    Plots a tour.  Each city visited is\n",
    "    labelled in order.  Red point is the initial city.\n",
    "    \n",
    "    Params:\n",
    "    ------\n",
    "    tour: np.ndarray\n",
    "        ordered vector representing tour e.g. [1, 4, 2, 3]\n",
    "        \n",
    "    cities: np.ndarray\n",
    "        matrix representing city coordinates\n",
    "        \n",
    "    figsize: tuple, optional (default = (6,3))\n",
    "        tuple of ints for figure size\n",
    "        \n",
    "    Returns\n",
    "    -------\n",
    "        tuple of matplotlib figure, and axis\n",
    "    '''\n",
    "\n",
    "    tour_length = len(tour)\n",
    "    fig, ax = plt.subplots(1, 1, figsize=figsize)\n",
    "\n",
    "    #plot points\n",
    "    ax.plot(cities[:tour_length][:, 0],\n",
    "            cities[:tour_length][:, 1],'bo')\n",
    "\n",
    "    #plot lines\n",
    "    for j in range(len(tour)-1):\n",
    "        city_1 = tour[j]\n",
    "        city_2 = tour[j+1]\n",
    "\n",
    "        #lookup coordinates\n",
    "        coords_1 = cities[city_1]\n",
    "        coords_2 = cities[city_2]\n",
    "        coords = np.vstack([coords_1, coords_2])\n",
    "\n",
    "        #plot lines\n",
    "        ax.plot(coords[:,0], coords[:,1], 'g-')\n",
    "        \n",
    "        #show order in tour\n",
    "        ax.text(coords_1[0] + 0.8, coords_1[1] + 0.8, str(j))\n",
    "\n",
    "    #add in loop back colour code in red...\n",
    "    city_1 = tour[-1]\n",
    "    city_2 = tour[0]\n",
    "\n",
    "    coords_1 = cities[city_1]\n",
    "    coords_2 = cities[city_2]\n",
    "    coords = np.vstack([coords_1, coords_2])\n",
    "    ax.text(coords_1[0] + 0.8, coords_1[1] + 0.8, str(tour_length-1))\n",
    "    ax.plot(coords[:,0], coords[:,1], 'r--')\n",
    "        \n",
    "    return fig, ax"
   ]
  },
  {
   "cell_type": "code",
   "execution_count": null,
   "metadata": {},
   "outputs": [],
   "source": [
    "#example visualising a tour\n",
    "rng = np.random.default_rng(seed=42)\n",
    "tour = np.arange(8)\n",
    "rng.shuffle(tour)\n",
    "\n",
    "#plot the tour\n",
    "fig, ax = plot_tour(tour, cities)"
   ]
  },
  {
   "cell_type": "markdown",
   "metadata": {},
   "source": [
    "# Enumerating all solutions\n",
    "\n",
    "You can enumerate all solutions of a **small** TSP using the `metapy.tsp.bruteforce.BruteForceSolver` class.  The code below creates a `solver` passes in a initial solution (a tour) and a `objective` and then runs the solver. \n",
    "\n",
    "The function `print_output` has been provided so that you can quickly output the results of the solver.\n"
   ]
  },
  {
   "cell_type": "code",
   "execution_count": null,
   "metadata": {},
   "outputs": [],
   "source": [
    "def print_output(solver):\n",
    "    '''\n",
    "    Utility function for printing formatted output of a solver\n",
    "    \n",
    "    Params:\n",
    "    -------\n",
    "    solver: object\n",
    "        Solver class that has .best_solutions, .best_cost attributes\n",
    "    '''\n",
    "    print(\"\\nbest solutions:\\t{0}\".format(len(solver.best_solutions)))\n",
    "    print(\"best cost:\\t{0}\".format(solver.best_cost))\n",
    "    print(\"best solutions:\")\n",
    "    [print(s) for s in solver.best_solutions]"
   ]
  },
  {
   "cell_type": "code",
   "execution_count": null,
   "metadata": {},
   "outputs": [],
   "source": [
    "#create a tour - there is NO need to randomise for bruteforce\n",
    "tour = np.arange(8)\n",
    "\n",
    "#create the objective \n",
    "objective = SimpleTSPObjective(matrix)\n",
    "\n",
    "#create the brute force solver\n",
    "solver = BruteForceSolver(tour, objective)\n",
    "\n",
    "#run the solver (should be quick below tour of length 10)\n",
    "print(\"Enumerating all solutions...\")\n",
    "solver.solve()\n",
    "print(\"\\n** BRUTEFORCE OUTPUT ***\")\n",
    "\n",
    "#this should find two optimal solutions! (the reverse of each other)\n",
    "print_output(solver)"
   ]
  },
  {
   "cell_type": "code",
   "execution_count": null,
   "metadata": {},
   "outputs": [],
   "source": [
    "#now visualise the result of solution 1\n",
    "fig, ax = plot_tour(solver.best_solutions[0], cities)"
   ]
  },
  {
   "cell_type": "code",
   "execution_count": null,
   "metadata": {},
   "outputs": [],
   "source": [
    "#now visualise the results of solution 2 (the reverse of 1)\n",
    "fig, ax = plot_tour(solver.best_solutions[1], cities)"
   ]
  },
  {
   "cell_type": "markdown",
   "metadata": {},
   "source": [
    "# Exercise 1: Solving a 9 city TSP\n",
    "\n",
    "**Task**:\n",
    "* Use a brute force approach to solve a 9 city TSP from the st70 dataset\n",
    "* Plot the results\n",
    "\n",
    "\n",
    "    "
   ]
  },
  {
   "cell_type": "code",
   "execution_count": null,
   "metadata": {},
   "outputs": [],
   "source": [
    "# your code here..."
   ]
  },
  {
   "cell_type": "markdown",
   "metadata": {},
   "source": [
    "# A basic optimisation method: random search\n",
    "\n",
    "Instead of a brute force enumeration we could have solved the small TSP problem using a **global optimisation algorithm**.  These algorithms do not get stuck in 'local optima' and will find the optimum solution **if run for long enough**.  That is a big **IF**!\n",
    "\n",
    "The simplest method is **random search**.  This makes *b* shuffles of the tour where *b* is an fixed iteration budget or the number of iterations that can be complete in a specified time limit.  \n",
    "\n",
    "> Random search is straightforward to implement yourself. It is a loop with a if statement checking for new best solutions.\n",
    "\n",
    "You can also use `metapy.trp.bruteforce.RandomSearch` to conduct a random search on the TSP.  \n",
    "\n",
    "```python\n",
    "#note max_iter is an optional parameter with default value of 1000\n",
    "solver = RandomSearch(tour, objective, max_iter=1000)\n",
    "```\n",
    "\n",
    "# Exercise 2: Setting a benchmark with random search\n",
    "\n",
    "**Task**:\n",
    "* Apply random search to the 9 city problem in the st70 dataset. Use a max_iter budget of 1000.\n",
    "* Compare the result to the optimal solution obtained in exercise 1. \n",
    "* Set a benchmark for solving the 70 city problem - apply random search to the full 70 city problem\n",
    "\n",
    "**Hints:**\n",
    "* When using random search with the 9 city problem you may want to complete multiple runs to get a feel for its performance. \n"
   ]
  },
  {
   "cell_type": "code",
   "execution_count": null,
   "metadata": {},
   "outputs": [],
   "source": [
    "# your code here ..."
   ]
  },
  {
   "cell_type": "markdown",
   "metadata": {},
   "source": [
    "# Using a hill-climbing approach\n",
    "\n",
    "When working in logistics it is likely that you will need to employ some form of simple hill-climbing algorithm.  These are very simple algorithms that iteratively test neighbouring solutions to see if they find any improvement.  This **local search** approach is often very successful at finding reasonably good solutions to a routing and scheduling problem. You will see that you can easily out perform random search. However, hill climbers do suffer from getting stuck in a **local optimum** and you can often do better by employing a more sophisticated algorithm.\n",
    "\n",
    "**However,** you might be surprised at how useful hill-climbers turn out to be when used in combination with other approaches.  Here you will first experiment with a simple first improvement hill climber and then use it to **clean up** the solution produced by a evolutionary strategy and **combine** the framework into random search followed by hill climbing.  One of the key benefits of hill climbers is that they are relatively fast (because they are simple).  You can even set a time limit to get some of the benefit of local search without greatly extending the execution time of your algorithm.\n",
    "\n",
    "> Although this the approach is called Hill-Climbing in the TSP you are **descending** a hill to the find the shortest route. The algorithm is the same, but you are maximising -1*objective (or alternatively $\\dfrac{1}{objective}$).  \n"
   ]
  },
  {
   "cell_type": "markdown",
   "metadata": {},
   "source": [
    "# Exercise 3: Simple versus 2-Opt tweaks\n",
    "\n",
    "Hill-Climbing works by iteratively **tweaking** a solution to search for better neighbouring solutions. `metapy` provides two relatively straightforward tweak operators.  `SimpleTweak` swaps the position of two cities at a time while `TweakTwoOpt` reverses a section of the route between two cities.  Generally speaking `TweakTwoOpt` will produce better solutions, but it is worth considering a `SimpleTweak` approach when **cleaning up** the output of another algorithm.  You could also try both!\n",
    "\n",
    "You create the tweak operators as follows:\n",
    "\n",
    "```python\n",
    "operator1 = SimpleTweak()\n",
    "operator2 = TweakTwoOpt()\n",
    "```\n",
    "Each tweak operator provides a `tweak(tour, index1, index2)` method. **Note that the change to tour happens in place**\n",
    "\n",
    "```python\n",
    "tour = np.arange(10)\n",
    "tweaker = SimpleTweak()\n",
    "#swap cities at index 1 and index 2.\n",
    "tweaker.tweak(tour, 1, 2)\n",
    "```\n",
    "\n",
    "**Task**:\n",
    "* Create a numpy vector representing a tour of 10 cities \n",
    "* Perform a simple tweak of cities in elements 5 and 9\n",
    "* Perform a 2-opt tweak between cities 1 and 4\n",
    "* Print out the updated tour.\n"
   ]
  },
  {
   "cell_type": "code",
   "execution_count": null,
   "metadata": {},
   "outputs": [],
   "source": [
    "#your code here..."
   ]
  },
  {
   "cell_type": "markdown",
   "metadata": {},
   "source": [
    "# Exercise 4: Hill-Climbing\n",
    "\n",
    "You have been provided with a simple hill climber class in `metapy`.  The code below demonstrates how to create a hill-climbing object and run the algorithm.  \n",
    "\n",
    "**Task:**\n",
    "* Read the code below and check your understand it.\n",
    "* Run the code below and check if the hill climber is better or worse than random search.\n",
    "* Modify the code below so that you pass a random initial solution to the hill climber.\n",
    "\n",
    "**Hints**:\n",
    "* a random initial solution is just a **shuffled** numpy array.  \n"
   ]
  },
  {
   "cell_type": "code",
   "execution_count": null,
   "metadata": {},
   "outputs": [],
   "source": [
    "#Basic First Improvement Hill Climber\n",
    "\n",
    "#create a tour (full 70 cities)\n",
    "tour = np.arange(70)\n",
    "\n",
    "###########################################\n",
    "# MODIFY CODE HERE TO SHUFFLE tour\n",
    "#\n",
    "###########################################\n",
    "\n",
    "#create TSP objective\n",
    "objective = SimpleTSPObjective(matrix)\n",
    "\n",
    "#create Hill climbing algorithm\n",
    "solver = HillClimber(objective=objective, \n",
    "                     init_solution=tour, \n",
    "                     tweaker=TweakTwoOpt(), \n",
    "                     maximisation=False)\n",
    "\n",
    "#run the local search\n",
    "solver.solve()\n",
    "\n",
    "#output results\n",
    "print(\"\\n** Hill Climber First Improvement OUTPUT ***\")\n",
    "print(\"best cost:\\t{0}\".format(solver.best_cost))\n",
    "print(\"best solutions:\")\n",
    "print(solver.best_solutions)\n",
    "fig, ax = plot_tour(solver.best_solutions[0], cities, figsize=(12,9))"
   ]
  },
  {
   "cell_type": "markdown",
   "metadata": {},
   "source": [
    "# Exercise 5: Using an evolutionary algorithm followed by hill climbing\n",
    "\n",
    "You will now experiment with using a hill climber to **clean up** the solution provided by a $(\\mu, \\lambda)$ evolutionary strategy.  It is often useful to make a few small computationally cheap tweaks to the solution provided by a more complex algorithm to gain additional performance.\n",
    "\n",
    "The code below has been set up for you to run an evolutionary strategy against the st70 problem.  \n",
    "\n",
    "**Task:**\n",
    "* Read and run the code.  Does the EA beat the basic hill climber and random search?  You may want to try this a few times or tune parameters.\n",
    "* The final line of code assigns the EAs solution to `interim_solution`.  Create a `HillClimber` and pass in `interim_solution` as its initial solution.\n",
    "* Try the `SimpleTweak()` operator.  \n",
    "* Output the hill climbers results and plot the route.\n",
    "\n",
    "**Hints**:\n",
    "* The EA will take a few seconds to run. If you use new Jupyter cells for your hill climbing you can run each algorithm separately.\n",
    "* Remember the EA is stochastic.  Feel free to run it a few times to see how hill climbing can help.  It may not help every time."
   ]
  },
  {
   "cell_type": "code",
   "execution_count": null,
   "metadata": {},
   "outputs": [],
   "source": [
    "%%time\n",
    "\n",
    "#Evolutionary Algorithm - (mu, lambda) strategy for TSP\n",
    "mu = 10\n",
    "_lambda = 200\n",
    "\n",
    "#full tour\n",
    "tour = np.arange(70)\n",
    "\n",
    "###########################################################\n",
    "# Create objective\n",
    "# if you are finding EA a bit slow try OptimisedSimpleTSPObjective\n",
    "# its experimental so be warned!\n",
    "objective = SimpleTSPObjective(matrix)\n",
    "#objective = OptimisedSimpleTSPObjective(matrix)\n",
    "###########################################################\n",
    "\n",
    "#create initial TSP population\n",
    "init = TSPPopulationGenerator(tour)\n",
    "\n",
    "#(Mu, Lambda) strategy using 2-Opt mutation\n",
    "strategy = MuLambdaEvolutionStrategy(mu, _lambda, TwoOptMutator())\n",
    "\n",
    "#EA \n",
    "solver = EvolutionaryAlgorithm(init, objective,_lambda, strategy, \n",
    "                               maximisation=False, generations=1000)\n",
    "\n",
    "#run the EA\n",
    "print(\"\\nRunning (mu, lambda) evolutionary alg...\")\n",
    "solver.solve()\n",
    "\n",
    "#output EA results\n",
    "print(\"\\n** (mu, LAMBDA) OUTPUT ***\")\n",
    "print(\"best cost:\\t{0}\".format(solver.best_fitness))\n",
    "print(\"best solutions:\")\n",
    "print(solver.best_solution)\n",
    "fig, ax = plot_tour(solver.best_solution, cities, figsize=(12,9))\n",
    "\n",
    "interim_solution = solver.best_solution\n",
    "\n",
    "#################################################\n",
    "#\n",
    "# Modification here: pass interim_solution to a hill climber\n",
    "# or use a new Jupyter cell.\n",
    "#\n",
    "#################################################"
   ]
  },
  {
   "cell_type": "markdown",
   "metadata": {},
   "source": [
    "# Exercise 6: Hill Climbing with Random Restarts\n",
    "\n",
    "Hill-Climbing algorithms may provide a different local optima dependent on the initial solution it is provided.  One option is therefore to combine Random Search and Hill Climbing into a general (and still rather dumb) algorithm called Hill-Climbing with Random Restarts.  Effectively it runs Hill-Climbing multiple times with a new starting point each time.  The algorithm picks the best solution either as it executes or after it has completed.\n",
    "\n",
    "**Task:**\n",
    "* The code below allows you to run a `HillClimber` multiple times each time with a random initial solution.  \n",
    "* Execute the code - how does it compare with the other procedures tested?\n",
    "* Options:\n",
    "    * Try `SimpleTweak()` instead of `TweakTwoOpt()`\n",
    "    * Try a different `random_seed` or drop it?\n",
    "    * Try a higher `max_iter` (remember this increased runtime!)\n"
   ]
  },
  {
   "cell_type": "code",
   "execution_count": null,
   "metadata": {},
   "outputs": [],
   "source": [
    "# Hill Climbing with random restarts\n",
    "\n",
    "tour = np.arange(70)\n",
    "\n",
    "objective = SimpleTSPObjective(matrix)\n",
    "\n",
    "# basic first improvement hill climber\n",
    "localsearch = HillClimber(objective, tour, TweakTwoOpt(),\n",
    "                          maximisation=False)\n",
    "\n",
    "#random restarts (multiple runs with random init solution)\n",
    "solver = HillClimberRandomRestarts(objective, localsearch, tour, \n",
    "                                   maxiter=20, random_seed=101)\n",
    "\n",
    "print(\"\\nRunning Hill-Climbing with Random Restarts...\")\n",
    "solver.solve()\n",
    "\n",
    "print(\"\\n** Hill Climbing with Random Restarts OUTPUT ***\")\n",
    "print(\"best cost:\\t{0}\".format(solver.best_cost))\n",
    "print(\"best solutions:\")\n",
    "print(solver.best_solutions[0])\n",
    "fig, ax = plot_tour(solver.best_solutions[0], cities, figsize=(12,9))"
   ]
  },
  {
   "cell_type": "markdown",
   "metadata": {},
   "source": [
    "# Exercise 7: Iterated Local Search\n",
    "\n",
    "A more sophisticated version of Hill-Climbing with random restarts is **Iterated Local Search** or **ILS** for short.  \n",
    "\n",
    "Instead of randomly restarting ILS defaults to a **homebase**.  A large tweak operation (called a perturbation!) is applied to the homebase and this is then used an the initial solution for Hill-Climbing.  There are a few more parameters/operators to tune with ILS and most important are deciding when to change homebase and what perturbation operator to use.  ILS can get quite creative in practice, but the pseudo code below gives the general appearance of the algorithm.\n",
    "\n",
    "\n",
    "```\n",
    "function iterated_local_search(init_solution)\n",
    "    best = copy(init_solution)\n",
    "    home = copy(init_solution)\n",
    "    candidate = copy(init_solution)\n",
    "    history = [home]\n",
    "\n",
    "    while time_remains\n",
    "\n",
    "        candidate = local_search(candidate)\n",
    "\n",
    "        if quality(candidate) > quality(best)\n",
    "            best = copy(candidate)\n",
    "        end\n",
    "\n",
    "        home = update_home(home, candidate)\n",
    "\n",
    "        candidate, history = perturb(home, history)\n",
    "\n",
    "    end\n",
    "\n",
    "    return best\n",
    "end\n",
    "\n",
    "```\n",
    "\n",
    "In the algorithm `history` is not always used.  If implemented, it essentially gives the algorithm a memory (or tabu list). It contains a list of previous initial solutions used in hill climbing and prevents the algorithm from repeating itself.  It usual to have a fixed sized memory (another hyper-parameter to tune!) \n",
    "\n",
    "The function `update_home` returns a homebase for perturbing.  Three simple implementations are a **random walk** and **greedy** and **epsilon greedy**.  A random walk uses the last local optima returned from hill climbing.  Greedy only accepts a new home base if the new local optima is better than the current homebase.  Finally, epsilon greedy takes a random walk epsilon of the time and acts greedy 1 - epsilon of the time.  A neat variation on epsilon greedy is to initially allow a lot of exploration and gradually decrease epsilon.  However, you will need more iterations (and longer execution time!) to get this to work in practice (but it may return better solutions to large problems).\n",
    "\n",
    "The function `perturb` is essentially a tweak operator and hence tends to be problem specific.  In routing and scheduling problems (and particularly the TSP) a good operator is called the Double Bridge Tweak.  This breaks the tour into four parts, reverses and recombines.  You could combine with a tabu list if felt it was necessary.\n",
    "\n",
    "**Task:**\n",
    "* The code below illustrates how to use an implementation of ILS provided in `metapy`\n",
    "* Your task to to experiment with ILS and compare how it performs to basic hill climbing with random restarts.\n",
    "* There are several options you can use to experiment. Uncomment the lines of code to explore the different approaches.\n",
    "    * updating the home base \n",
    "    * perturbing the home base \n",
    "    * the number of iterations of ILS\n"
   ]
  },
  {
   "cell_type": "code",
   "execution_count": null,
   "metadata": {},
   "outputs": [],
   "source": [
    "#Iterated Local Search Template\n",
    "#multiple runs of Hill Climbing with intelligent initial conditions\n",
    "\n",
    "\n",
    "#random intial solution of size 70\n",
    "tour = np.arange(70)\n",
    "np.random.shuffle(tour)\n",
    "\n",
    "##################################################################\n",
    "#objective function\n",
    "objective = SimpleTSPObjective(matrix)\n",
    "objective = OptimisedSimpleTSPObjective(matrix)\n",
    "###################################################################\n",
    "\n",
    "#create the general hill climber with two opt swaps\n",
    "localsearch = HillClimber(objective, tour, \n",
    "                          TweakTwoOpt(),\n",
    "                          maximisation=False)\n",
    "\n",
    "####################################################################\n",
    "#OPTIONS FOR UPDATING HOMEBASE\n",
    "#UNCOMMENT THE OPTION YOU WOULD LIKE TO USE.\n",
    "\n",
    "homebase_accept = EpsilonGreedyHomeBase(epsilon=0.3) #epsilon greedy \n",
    "#homebase_accept = HigherQualityHomeBase() #greedy method\n",
    "#homebase_accept = RandomHomeBase() # random walk\n",
    "#homebase_accept = AnnealingEpsilonGreedyHomeBase(maxiter_per_temp=20,\n",
    "#                                                 verbose=True)  \n",
    "####################################################################\n",
    "\n",
    "\n",
    "####################################################################\n",
    "#OPTIONS FOR PERTURBING HOMEBASE (medium to large tweak to homebase)\n",
    "#UNCOMMENT THE OPTION YOU WOULD LIKE TO USE.\n",
    "\n",
    "perturb = DoubleBridgePertubation() #no memory\n",
    "#perturb =  TabuDoubleBridgeTweak(tabu_size=10, init_solution=tour) #with tabu\n",
    "######################################################################\n",
    "\n",
    "#create the ILS solver\n",
    "#set verbose=False to suppress output of each iteration.\n",
    "solver = IteratedLocalSearch(localsearch, \n",
    "                             accept=homebase_accept,\n",
    "                             perturb=perturb,\n",
    "                             verbose=True)\n",
    "\n",
    "######################################################################\n",
    "# NO. ITERATIONS OF ILS.\n",
    "# This is a good parameter to experiment with.  Try more than 30.\n",
    "n = 30\n",
    "######################################################################\n",
    "\n",
    "print(f\"\\nRunning {n} iterations...\")\n",
    "solver.run(n)\n",
    "\n",
    "print(\"\\n** ILS RESULTS ***\")\n",
    "print(\"best cost:\\t{0}\".format(solver.best_cost))\n",
    "print(\"best solution:\")\n",
    "print(solver.best_solutions[0])\n",
    "fig, ax = plot_tour(solver.best_solutions[0], cities, figsize=(12,9))"
   ]
  },
  {
   "cell_type": "markdown",
   "metadata": {},
   "source": [
    "# Optional Exercise 8: Good solutions\n",
    "\n",
    "**Task:**\n",
    "* The tours below represent 'good', but not optimal solutions to the st70 problem.   \n",
    "* Can you improve on them?  Either by using them as initial solutions in a hill-climbing / iterated local search algorithm or by tuning an evolutionary strategy?\n",
    "* If you beat them then do tell!\n",
    "\n",
    "**Hints**\n",
    "* You can see the cost of each tour by calling `objective.evaluate()`"
   ]
  },
  {
   "cell_type": "code",
   "execution_count": null,
   "metadata": {},
   "outputs": [],
   "source": [
    "# cost = 688\n",
    "\n",
    "objective = SimpleTSPObjective(matrix)\n",
    "\n",
    "tour1 = np.array([45, 26, 67, 43, 29, 19, 13, 27, 48, 54, 25,  7,  2, 31, 41, 17,  3,\n",
    "        1,  6, 18, 23, 14, 56, 62, 65, 21, 22, 37, 58, 34, 68, 30, 69, 12,\n",
    "       28, 35,  0, 15, 46, 36, 57, 49, 50, 64, 63, 10, 55, 66, 47, 53, 61,\n",
    "       33, 20, 11, 32, 59, 51,  9,  4, 52,  5, 40, 42, 16,  8, 39, 60, 38,\n",
    "       44, 24])\n",
    "                  \n",
    "objective.evaluate(tour1)\n",
    "fig, ax = plot_tour(tour1, cities, figsize=(12,9))"
   ]
  },
  {
   "cell_type": "code",
   "execution_count": null,
   "metadata": {},
   "outputs": [],
   "source": [
    "#cost = 683\n",
    "\n",
    "tour2 = np.array([68, 30, 34, 69, 12, 28, 35,  0, 22, 15, 46, 36, 57, 49, 52,  4,  9,\n",
    "       51, 59, 50, 64, 63, 10, 55, 66, 47, 53, 61, 32, 11, 33, 20, 16, 42,\n",
    "        8, 39, 60, 38, 44, 24, 45, 26, 67, 43, 29, 19, 13, 27, 48, 54, 25,\n",
    "        7,  2, 31, 41, 40,  5, 17,  3,  1,  6, 18, 23, 14, 56, 62, 65, 21,\n",
    "       37, 58])\n",
    "\n",
    "objective.evaluate(tour2)\n",
    "fig, ax = plot_tour(tour2, cities, figsize=(12,9))"
   ]
  },
  {
   "cell_type": "code",
   "execution_count": null,
   "metadata": {},
   "outputs": [],
   "source": [
    "#cost = 686\n",
    "tour3 = np.array([65, 56, 14, 23, 18,  6,  1,  3, 17, 41, 31,  2,  7, 25, 54, 48, 27,\n",
    "       13, 19, 29, 43, 67, 26, 45, 24, 44, 38, 60, 39,  8, 16, 42, 40,  5,\n",
    "       52,  4,  9, 51, 59, 11, 33, 20, 32, 61, 53, 66, 47, 10, 63, 64, 55,\n",
    "       50, 49, 57, 36, 46, 15,  0, 35, 22, 37, 12, 28, 69, 30, 68, 34, 21,\n",
    "       58, 62])\n",
    "       \n",
    "objective.evaluate(tour3)\n",
    "fig, ax = plot_tour(tour3, cities, figsize=(12,9))"
   ]
  },
  {
   "cell_type": "code",
   "execution_count": null,
   "metadata": {},
   "outputs": [],
   "source": []
  }
 ],
 "metadata": {
  "kernelspec": {
   "display_name": "Python 3",
   "language": "python",
   "name": "python3"
  },
  "language_info": {
   "codemirror_mode": {
    "name": "ipython",
    "version": 3
   },
   "file_extension": ".py",
   "mimetype": "text/x-python",
   "name": "python",
   "nbconvert_exporter": "python",
   "pygments_lexer": "ipython3",
   "version": "3.7.7"
  }
 },
 "nbformat": 4,
 "nbformat_minor": 4
}
